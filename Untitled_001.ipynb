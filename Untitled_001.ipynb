{
 "cells": [
  {
   "cell_type": "code",
   "execution_count": 1,
   "metadata": {},
   "outputs": [
    {
     "name": "stdout",
     "output_type": "stream",
     "text": [
      "Requirement already satisfied: elasticsearch in /Users/apple/opt/anaconda3/lib/python3.7/site-packages (7.9.0)\n",
      "Requirement already satisfied: urllib3>=1.21.1 in /Users/apple/opt/anaconda3/lib/python3.7/site-packages (from elasticsearch) (1.26.7)\n",
      "Requirement already satisfied: certifi in /Users/apple/opt/anaconda3/lib/python3.7/site-packages (from elasticsearch) (2020.4.5.1)\n",
      "Note: you may need to restart the kernel to use updated packages.\n"
     ]
    }
   ],
   "source": [
    "pip install elasticsearch"
   ]
  },
  {
   "cell_type": "code",
   "execution_count": 11,
   "metadata": {},
   "outputs": [
    {
     "ename": "TypeError",
     "evalue": "__init__() got an unexpected keyword argument 'scheme'",
     "output_type": "error",
     "traceback": [
      "\u001b[0;31m---------------------------------------------------------------------------\u001b[0m",
      "\u001b[0;31mTypeError\u001b[0m                                 Traceback (most recent call last)",
      "\u001b[0;32m<ipython-input-11-4806b86b8118>\u001b[0m in \u001b[0;36m<module>\u001b[0;34m\u001b[0m\n\u001b[1;32m      9\u001b[0m     \u001b[0mhttp_auth\u001b[0m\u001b[0;34m=\u001b[0m\u001b[0;34m(\u001b[0m\u001b[0;34m'elastic'\u001b[0m\u001b[0;34m,\u001b[0m \u001b[0;34m'piPh2iel5aat'\u001b[0m\u001b[0;34m)\u001b[0m\u001b[0;34m,\u001b[0m\u001b[0;34m\u001b[0m\u001b[0;34m\u001b[0m\u001b[0m\n\u001b[1;32m     10\u001b[0m     \u001b[0mscheme\u001b[0m\u001b[0;34m=\u001b[0m\u001b[0;34m\"https\"\u001b[0m\u001b[0;34m,\u001b[0m\u001b[0;34m\u001b[0m\u001b[0;34m\u001b[0m\u001b[0m\n\u001b[0;32m---> 11\u001b[0;31m     \u001b[0mssl_context\u001b[0m\u001b[0;34m=\u001b[0m\u001b[0mcontext\u001b[0m\u001b[0;34m,\u001b[0m\u001b[0;34m\u001b[0m\u001b[0;34m\u001b[0m\u001b[0m\n\u001b[0m\u001b[1;32m     12\u001b[0m )\n\u001b[1;32m     13\u001b[0m \u001b[0mindex\u001b[0m \u001b[0;34m=\u001b[0m \u001b[0;34m\"index\"\u001b[0m\u001b[0;34m\u001b[0m\u001b[0;34m\u001b[0m\u001b[0m\n",
      "\u001b[0;31mTypeError\u001b[0m: __init__() got an unexpected keyword argument 'scheme'"
     ]
    }
   ],
   "source": [
    "from elasticsearch import Elasticsearch\n",
    "import ssl\n",
    "\n",
    "context = ssl._create_unverified_context()\n",
    "\n",
    "ES =[\"192.168.1.3:9200\"]\n",
    "es = Elasticsearch(\n",
    "    ES,\n",
    "    http_auth=('elastic', 'piPh2iel5aat'),\n",
    "    scheme=\"https\",\n",
    "    ssl_context=context,\n",
    ")\n",
    "index = \"index\"\n",
    "print(es)\n",
    "print(es.ping())\n",
    "res = es.indices.exists(index = index)\n",
    "print(res)"
   ]
  },
  {
   "cell_type": "code",
   "execution_count": 26,
   "metadata": {},
   "outputs": [
    {
     "name": "stdout",
     "output_type": "stream",
     "text": [
      "[{'_index': 'ES', '_source': {'item_name': 'Hörnchen Milchcrem'}}, {'_index': 'ES', '_source': {'item_name': 'Blätterteiggebäck'}}, {'_index': 'ES', '_source': {'item_name': 'Fairtrade tookies'}}, {'_index': 'ES', '_source': {'item_name': 'Cashewkerne'}}, {'_index': 'ES', '_source': {'item_name': 'MILSANI H-MILCH 1,5%'}}, {'_index': 'ES', '_source': {'item_name': 'KAROTTENSAFT'}}, {'_index': 'ES', '_source': {'item_name': 'APFELSAFT KLAR 1,0'}}, {'_index': 'ES', '_source': {'item_name': 'KÖRNIGER FRISCHKASE'}}, {'_index': 'ES', '_source': {'item_name': 'MILSANI H-SCHMAND'}}, {'_index': 'ES', '_source': {'item_name': 'BANANEN LOSE'}}, {'_index': 'ES', '_source': {'item_name': 'JOGHURT NACH GRIECH. ART'}}, {'_index': 'ES', '_source': {'item_name': 'ZWIEBELN  PAPRIKA'}}, {'_index': 'ES', '_source': {'item_name': 'BIO LACHS'}}, {'_index': 'ES', '_source': {'item_name': 'H-SCHLAGSAHNE 30 %'}}, {'_index': 'ES', '_source': {'item_name': 'BIO GURKEN'}}, {'_index': 'ES', '_source': {'item_name': 'BUTTELLA SONNENBL.ÖL'}}, {'_index': 'ES', '_source': {'item_name': 'AVOCADO NETZ'}}, {'_index': 'ES', '_source': {'item_name': 'Foto-Par adies Bilcder Sofort'}}, {'_index': 'ES', '_source': {'item_name': 'FUNNY CHIPS'}}, {'_index': 'ES', '_source': {'item_name': 'AEPFEL (ML)'}}, {'_index': 'ES', '_source': {'item_name': 'DE BEUKEL.COOKIES'}}, {'_index': 'ES', '_source': {'item_name': 'SOFT APRIKOS'}}, {'_index': 'ES', '_source': {'item_name': 'NEKTARINEN'}}, {'_index': 'ES', '_source': {'item_name': 'KARAMELL WAFFELN'}}, {'_index': 'ES', '_source': {'item_name': 'G+G H-MTLCH 1,5%'}}, {'_index': 'ES', '_source': {'item_name': 'BANANEN'}}, {'_index': 'ES', '_source': {'item_name': 'Kinder-Schokolade'}}, {'_index': 'ES', '_source': {'item_name': 'Yogurette'}}, {'_index': 'ES', '_source': {'item_name': 'PEZ Bonbons'}}, {'_index': 'ES', '_source': {'item_name': 'Vollkornbrot-Misch.'}}, {'_index': 'ES', '_source': {'item_name': 'Zucker 1kg'}}, {'_index': 'ES', '_source': {'item_name': 'Frische Eier Freilan'}}, {'_index': 'ES', '_source': {'item_name': 'Alkoholfr. Bier'}}, {'_index': 'ES', '_source': {'item_name': 'BEEF JERKY ORIG'}}, {'_index': 'ES', '_source': {'item_name': 'BOEREK-STANGE'}}, {'_index': 'ES', '_source': {'item_name': 'BUTTER CROISSANT'}}, {'_index': 'ES', '_source': {'item_name': 'MELONENWUERFEL'}}, {'_index': 'ES', '_source': {'item_name': 'TIRAMISU'}}, {'_index': 'ES', '_source': {'item_name': 'KOKOSNUSS-ST'}}, {'_index': 'ES', '_source': {'item_name': 'MANGO STUECKE'}}, {'_index': 'ES', '_source': {'item_name': 'MILCH REDBEER'}}, {'_index': 'ES', '_source': {'item_name': 'H-MILCH 1,5%'}}, {'_index': 'ES', '_source': {'item_name': 'FRUCHT JOG. PFIR'}}, {'_index': 'ES', '_source': {'item_name': 'ERDBEER-ROLLE'}}, {'_index': 'ES', '_source': {'item_name': 'OREO SANDWICH'}}, {'_index': 'ES', '_source': {'item_name': 'KC SWEET CHILI P'}}, {'_index': 'ES', '_source': {'item_name': 'TORTILLA CHEESE '}}, {'_index': 'ES', '_source': {'item_name': 'PRETZELSNACK'}}, {'_index': 'ES', '_source': {'item_name': 'VITTEL MINERALWA'}}, {'_index': 'ES', '_source': {'item_name': 'WC DUFTBLUE.LIL'}}, {'_index': 'ES', '_source': {'item_name': 'MUELLBTL. 35L'}}, {'_index': 'ES', '_source': {'item_name': 'Chinakohl '}}, {'_index': 'ES', '_source': {'item_name': 'Bio Ingwer '}}, {'_index': 'ES', '_source': {'item_name': 'FairtBio Banana'}}, {'_index': 'ES', '_source': {'item_name': 'Papiertragetasche'}}, {'_index': 'ES', '_source': {'item_name': 'Garnelen white Tiger'}}, {'_index': 'ES', '_source': {'item_name': 'Hähnchen Unterkeulen'}}, {'_index': 'ES', '_source': {'item_name': 'Hähnchenflügel'}}, {'_index': 'ES', '_source': {'item_name': 'Apfel 5kg VKE QS'}}, {'_index': 'ES', '_source': {'item_name': 'Birnen 1kg VKE'}}, {'_index': 'ES', '_source': {'item_name': 'Kaki/Sharon 1kg VKE '}}, {'_index': 'ES', '_source': {'item_name': 'Speiseoehren 1kg VKE QS'}}, {'_index': 'ES', '_source': {'item_name': 'Gurken ST'}}, {'_index': 'ES', '_source': {'item_name': 'Lauch/Porree ST'}}, {'_index': 'ES', '_source': {'item_name': 'Mini-Romanasalat VKE-ST'}}, {'_index': 'ES', '_source': {'item_name': 'Broccoli 500g VKE'}}, {'_index': 'ES', '_source': {'item_name': 'Spitzpaprika 500g VKE'}}, {'_index': 'ES', '_source': {'item_name': 'Zucchini Lose'}}, {'_index': 'ES', '_source': {'item_name': 'Tomaten 500g VKE'}}, {'_index': 'ES', '_source': {'item_name': 'Heidelbeeren 300g VKE'}}, {'_index': 'ES', '_source': {'item_name': 'Himbeeren 125g VKE'}}, {'_index': 'ES', '_source': {'item_name': 'TomateStrau. Kg'}}, {'_index': 'ES', '_source': {'item_name': 'Chinakohl kg'}}, {'_index': 'ES', '_source': {'item_name': 'Dattelcherrytomaten '}}, {'_index': 'ES', '_source': {'item_name': 'Iglo Fischstäbchen'}}, {'_index': 'ES', '_source': {'item_name': 'Pizza Arrabbiata'}}, {'_index': 'ES', '_source': {'item_name': 'Bio-Eier OKT 10er'}}, {'_index': 'ES', '_source': {'item_name': 'Knorr Knobl. Sauce'}}, {'_index': 'ES', '_source': {'item_name': 'Körner-Krusti'}}, {'_index': 'ES', '_source': {'item_name': 'Bag. Brötchen 6er'}}, {'_index': 'ES', '_source': {'item_name': 'GIZEH SLIM FILTER'}}, {'_index': 'ES', '_source': {'item_name': 'NAT.AM.SP.OR.BLUE'}}, {'_index': 'ES', '_source': {'item_name': 'TEMPO TOIPA-FEUCHT'}}, {'_index': 'ES', '_source': {'item_name': 'SUPER DICKMANN S 9'}}, {'_index': 'ES', '_source': {'item_name': 'Zeitschriften'}}, {'_index': 'ES', '_source': {'item_name': 'NADL.SEEL.SCHEIBEN'}}, {'_index': 'ES', '_source': {'item_name': 'RITTER MARZIPAN'}}, {'_index': 'ES', '_source': {'item_name': 'GEFLUEGELSAL'}}, {'_index': 'ES', '_source': {'item_name': 'MIRACOLI SPAGEHTTI'}}, {'_index': 'ES', '_source': {'item_name': 'HIDROFUGAL ROLL-ON'}}, {'_index': 'ES', '_source': {'item_name': 'F-F CHIPSFRISCH'}}, {'_index': 'ES', '_source': {'item_name': 'HARIBO VAMPIRE'}}, {'_index': 'ES', '_source': {'item_name': 'HARIBO KONFEKT'}}, {'_index': 'ES', '_source': {'item_name': 'EDK Rispentom, '}}, {'_index': 'ES', '_source': {'item_name': 'Staudense Merie'}}, {'_index': 'ES', '_source': {'item_name': 'HOF SPAHR Bodenha'}}, {'_index': 'ES', '_source': {'item_name': 'Knoblauch tr'}}, {'_index': 'ES', '_source': {'item_name': 'Mül.Greek-Joghurt'}}, {'_index': 'ES', '_source': {'item_name': 'Zucchini'}}, {'_index': 'ES', '_source': {'item_name': 'Paprika'}}, {'_index': 'ES', '_source': {'item_name': 'Lauchzwiebeln'}}, {'_index': 'ES', '_source': {'item_name': 'Cola Zero'}}, {'_index': 'ES', '_source': {'item_name': 'Orange mit Eis'}}, {'_index': 'ES', '_source': {'item_name': 'Mango m. Eisfüllung'}}, {'_index': 'ES', '_source': {'item_name': 'Ananas Eis'}}, {'_index': 'ES', '_source': {'item_name': 'Magn.Or.Limo0,7l'}}, {'_index': 'ES', '_source': {'item_name': 'Kartoffeln Linda'}}, {'_index': 'ES', '_source': {'item_name': 'Gutfr.Fleischsalat'}}, {'_index': 'ES', '_source': {'item_name': 'So.Bas.Kartof.Topf'}}, {'_index': 'ES', '_source': {'item_name': 'Kaki'}}, {'_index': 'ES', '_source': {'item_name': 'Kiwi Gold'}}, {'_index': 'ES', '_source': {'item_name': 'Clementinen'}}, {'_index': 'ES', '_source': {'item_name': 'Coca-Cola Ze.0,33l'}}, {'_index': 'ES', '_source': {'item_name': 'Champignons'}}, {'_index': 'ES', '_source': {'item_name': 'EDK Mini Pak Choi'}}, {'_index': 'ES', '_source': {'item_name': 'Delve.Bui. Linguin.'}}, {'_index': 'ES', '_source': {'item_name': 'Sammys Sandwich'}}, {'_index': 'ES', '_source': {'item_name': 'G&G Jasmin Reis'}}, {'_index': 'ES', '_source': {'item_name': 'Diamant Weizenmehl'}}, {'_index': 'ES', '_source': {'item_name': 'G&G Broccoli'}}, {'_index': 'ES', '_source': {'item_name': 'B.Rei.Alpenjodsalz'}}, {'_index': 'ES', '_source': {'item_name': 'Brärenm.Die fr.Mi'}}, {'_index': 'ES', '_source': {'item_name': 'Es schm.Bratw.veg.'}}, {'_index': 'ES', '_source': {'item_name': 'WSH Gefl.Jagdwurst'}}, {'_index': 'ES', '_source': {'item_name': 'Bio E.Hähn.Lyoner'}}, {'_index': 'ES', '_source': {'item_name': 'Lays Chips gesalz'}}, {'_index': 'ES', '_source': {'item_name': 'EDK Mandarinen'}}, {'_index': 'ES', '_source': {'item_name': 'Coca-Cola 4x0,33l'}}, {'_index': 'ES', '_source': {'item_name': 'Dallm.Classic'}}, {'_index': 'ES', '_source': {'item_name': 'Extra White Melon'}}, {'_index': 'ES', '_source': {'item_name': 'Wrigl.Extr.w.Citr'}}, {'_index': 'ES', '_source': {'item_name': 'E.Reinig.Tücher'}}, {'_index': 'ES', '_source': {'item_name': 'ültje Nussmischu'}}, {'_index': 'ES', '_source': {'item_name': 'Barenm. Kond. Milch'}}, {'_index': 'ES', '_source': {'item_name': 'Ferrero Rocher'}}, {'_index': 'ES', '_source': {'item_name': 'GRISSPUDDING'}}, {'_index': 'ES', '_source': {'item_name': 'HÄHN.UNTERKEULEN - QS'}}, {'_index': 'ES', '_source': {'item_name': 'BIO SPINAT'}}, {'_index': 'ES', '_source': {'item_name': '2x Diamant Weizenmehl'}}, {'_index': 'ES', '_source': {'item_name': 'Cola Zero 0,33l'}}, {'_index': 'ES', '_source': {'item_name': 'EDK Champignons'}}, {'_index': 'ES', '_source': {'item_name': 'Gackerle Hähnchenunt'}}, {'_index': 'ES', '_source': {'item_name': 'UH Paprika rot'}}, {'_index': 'ES', '_source': {'item_name': 'Magnus Spritz 0,7l'}}, {'_index': 'ES', '_source': {'item_name': 'Corona Ext.0,355l'}}, {'_index': 'ES', '_source': {'item_name': 'Tropical Aloe Origin'}}, {'_index': 'ES', '_source': {'item_name': 'Fanta Orange 0,33l'}}, {'_index': 'ES', '_source': {'item_name': 'Tassimo Milchkomp.'}}, {'_index': 'ES', '_source': {'item_name': 'G&G Quarkcreme P .'}}, {'_index': 'ES', '_source': {'item_name': 'G&G Quarkcreme Erd'}}, {'_index': 'ES', '_source': {'item_name': 'Gutfr.Fleischwurst'}}, {'_index': 'ES', '_source': {'item_name': 'Tofu natur'}}, {'_index': 'ES', '_source': {'item_name': 'Seidentofu'}}, {'_index': 'ES', '_source': {'item_name': 'Lipt.Zitr.Z.0,33l'}}, {'_index': 'ES', '_source': {'item_name': '2x Som.Apple C.0,33l'}}, {'_index': 'ES', '_source': {'item_name': '4x Cola Zero 0,33l'}}, {'_index': 'ES', '_source': {'item_name': 'HÄHN.BRUSTF. TEILST. QS'}}, {'_index': 'ES', '_source': {'item_name': 'FRIKADELLEN - QS'}}, {'_index': 'ES', '_source': {'item_name': 'AMERICAN COOKIES'}}, {'_index': 'ES', '_source': {'item_name': 'GURKEN'}}, {'_index': 'ES', '_source': {'item_name': 'BANANEN 0,438kg '}}, {'_index': 'ES', '_source': {'item_name': 'FERRERO ROCHER'}}, {'_index': 'ES', '_source': {'item_name': 'SCHWEINEFILET-QS, GANZ'}}, {'_index': 'ES', '_source': {'item_name': 'PAPRIKA MIX'}}, {'_index': 'ES', '_source': {'item_name': 'BIO MÖHREN'}}, {'_index': 'ES', '_source': {'item_name': 'Orangina m. Fru. 1l'}}, {'_index': 'ES', '_source': {'item_name': '2x Coca-Cola Ze.0,33l'}}, {'_index': 'ES', '_source': {'item_name': 'Bio N.Pur Wurst'}}, {'_index': 'ES', '_source': {'item_name': '2X WSH Gefl.Jagdwurst'}}, {'_index': 'ES', '_source': {'item_name': 'Gackerle Hähnchenbru'}}, {'_index': 'ES', '_source': {'item_name': 'Cola Zero 0,5l'}}, {'_index': 'ES', '_source': {'item_name': 'RISPENTOMATE 0,528kg'}}, {'_index': 'ES', '_source': {'item_name': 'HAEHNCHENFLUEGEL'}}, {'_index': 'ES', '_source': {'item_name': 'GLANZBROT'}}, {'_index': 'ES', '_source': {'item_name': 'FISHDIP COCKTAIL'}}, {'_index': 'ES', '_source': {'item_name': 'HEIDELBEERE BIO'}}, {'_index': 'ES', '_source': {'item_name': 'EISBERGSALAT'}}, {'_index': 'ES', '_source': {'item_name': 'FR. MILCH 1,8%'}}, {'_index': 'ES', '_source': {'item_name': 'ZEWA 8X150BL'}}, {'_index': 'ES', '_source': {'item_name': 'TASCHENTUCH BOX'}}, {'_index': 'ES', '_source': {'item_name': 'WATTESTAEB. BOX'}}, {'_index': 'ES', '_source': {'item_name': 'SPITZKOHL 0,864kg'}}, {'_index': 'ES', '_source': {'item_name': 'HAE.BRUSTFILET'}}, {'_index': 'ES', '_source': {'item_name': 'BUKO ANANAS'}}, {'_index': 'ES', '_source': {'item_name': 'ROSEN'}}, {'_index': 'ES', '_source': {'item_name': 'EIER FREIL.MINI'}}, {'_index': 'ES', '_source': {'item_name': 'JA! RAFF.ZUCKER'}}, {'_index': 'ES', '_source': {'item_name': 'CAMEMBERT 45%'}}, {'_index': 'ES', '_source': {'item_name': 'VOLLKORNTOAST'}}, {'_index': 'ES', '_source': {'item_name': 'TOMATE CHERRYROM'}}, {'_index': 'ES', '_source': {'item_name': 'BIO JOGHURT 1,8%'}}, {'_index': 'ES', '_source': {'item_name': 'Barilla'}}, {'_index': 'ES', '_source': {'item_name': 'TOMATE ROT 0,482kg'}}, {'_index': 'ES', '_source': {'item_name': 'CLEMENTINEN'}}, {'_index': 'ES', '_source': {'item_name': 'SALAT ROMA HERZ'}}, {'_index': 'ES', '_source': {'item_name': 'RUCOLA'}}, {'_index': 'ES', '_source': {'item_name': 'CHERRYROMATOMATE'}}, {'_index': 'ES', '_source': {'item_name': 'BERGBAUERNNMILCH'}}, {'_index': 'ES', '_source': {'item_name': 'BIO JOGURT 0,1%'}}, {'_index': 'ES', '_source': {'item_name': 'MEHL TYP 405'}}, {'_index': 'ES', '_source': {'item_name': 'BANANE CHIQUITA 0,690kg'}}, {'_index': 'ES', '_source': {'item_name': 'RUEGENW.TEEWURST'}}, {'_index': 'ES', '_source': {'item_name': 'OFENKAESE'}}, {'_index': 'ES', '_source': {'item_name': 'APFEL SNACKAPFEL'}}, {'_index': 'ES', '_source': {'item_name': 'CASHEWKERNE GERO'}}, {'_index': 'ES', '_source': {'item_name': 'SALATGURKE'}}, {'_index': 'ES', '_source': {'item_name': 'PAPRIKA MIX REWE'}}, {'_index': 'ES', '_source': {'item_name': 'BIO FR.MILCH 3,8'}}, {'_index': 'ES', '_source': {'item_name': 'LASAGNE BOLOGNES'}}, {'_index': 'ES', '_source': {'item_name': 'GOLDMAIS'}}, {'_index': 'ES', '_source': {'item_name': 'ROCHER'}}, {'_index': 'ES', '_source': {'item_name': 'COLGATE MAX PROT'}}, {'_index': 'ES', '_source': {'item_name': 'IMPRESAN'}}, {'_index': 'ES', '_source': {'item_name': 'BANANE 0,666kg'}}, {'_index': 'ES', '_source': {'item_name': 'AVOCADO VORGER'}}, {'_index': 'ES', '_source': {'item_name': 'EIER FH RES 10ER'}}, {'_index': 'ES', '_source': {'item_name': 'STREICHFETT'}}, {'_index': 'ES', '_source': {'item_name': 'LANDMILCH 3,8%'}}, {'_index': 'ES', '_source': {'item_name': 'ACETO BALSAMICO'}}, {'_index': 'ES', '_source': {'item_name': 'HENGL.Hefeklöße'}}, {'_index': 'ES', '_source': {'item_name': 'E.Erdbeeren'}}, {'_index': 'ES', '_source': {'item_name': 'Biskin Pflanz.fett'}}, {'_index': 'ES', '_source': {'item_name': 'G+G Hackfleisch'}}, {'_index': 'ES', '_source': {'item_name': 'E.Gen.White Tiger'}}, {'_index': 'ES', '_source': {'item_name': 'Ingwer'}}, {'_index': 'ES', '_source': {'item_name': 'G&G Schnittlauch'}}, {'_index': 'ES', '_source': {'item_name': 'Weih.Fr.Schlagrahm'}}, {'_index': 'ES', '_source': {'item_name': 'M.Land Vollmilch'}}, {'_index': 'ES', '_source': {'item_name': 'Weih.Butter'}}, {'_index': 'ES', '_source': {'item_name': 'Nords.Backfisch'}}, {'_index': 'ES', '_source': {'item_name': 'Milr.Schlagsahne'}}, {'_index': 'ES', '_source': {'item_name': 'G&G Rohkost-Mix'}}, {'_index': 'ES', '_source': {'item_name': 'Yakult Original'}}, {'_index': 'ES', '_source': {'item_name': 'G&G Eier BDH 10ST'}}, {'_index': 'ES', '_source': {'item_name': 'Oreo Original Van. '}}, {'_index': 'ES', '_source': {'item_name': 'G&G Küchentücher'}}, {'_index': 'ES', '_source': {'item_name': 'G&G Toilettenpap.'}}, {'_index': 'ES', '_source': {'item_name': 'WENCO KLARSICHTB.'}}, {'_index': 'ES', '_source': {'item_name': 'KARTOFFELN 2KG'}}, {'_index': 'ES', '_source': {'item_name': 'SAMLIP PANIERMEHL '}}, {'_index': 'ES', '_source': {'item_name': 'GT VOLLKORN TOAST'}}, {'_index': 'ES', '_source': {'item_name': 'BARILLA LC LASAGNE'}}, {'_index': 'ES', '_source': {'item_name': 'BOND.GOLDMAIS'}}, {'_index': 'ES', '_source': {'item_name': 'ASTRA RAKETE 0,33L'}}, {'_index': 'ES', '_source': {'item_name': 'FRISCHFLEISCH -BEDT'}}, {'_index': 'ES', '_source': {'item_name': 'G&G K.TÜCHER'}}, {'_index': 'ES', '_source': {'item_name': 'G&G MILCHREIS '}}, {'_index': 'ES', '_source': {'item_name': 'BIBIGO DUMPLING'}}, {'_index': 'ES', '_source': {'item_name': 'HEINZ TOM.KETCHUP'}}, {'_index': 'ES', '_source': {'item_name': 'RAST.HACKFLEISCH'}}, {'_index': 'ES', '_source': {'item_name': 'TF BLAETTERTEIG 27'}}, {'_index': 'ES', '_source': {'item_name': 'SCHWEINESCHWÄNZE'}}, {'_index': 'ES', '_source': {'item_name': 'G&G HÄH.INNENFIL.'}}, {'_index': 'ES', '_source': {'item_name': 'FINELLO'}}, {'_index': 'ES', '_source': {'item_name': 'PD PIZZA-BROETCHEN'}}, {'_index': 'ES', '_source': {'item_name': 'Bio Ingwer 0,076kg'}}, {'_index': 'ES', '_source': {'item_name': 'KAM.HANDCREME'}}, {'_index': 'ES', '_source': {'item_name': 'MUELLBEUTEL'}}, {'_index': 'ES', '_source': {'item_name': 'MP JOGHURT 150G'}}, {'_index': 'ES', '_source': {'item_name': 'AUSTERNPILZE'}}, {'_index': 'ES', '_source': {'item_name': 'EDK MUNGOSTROSSEN'}}, {'_index': 'ES', '_source': {'item_name': 'TUNF IN OEL'}}, {'_index': 'ES', '_source': {'item_name': 'SCHÄLRIPPCHEN'}}, {'_index': 'ES', '_source': {'item_name': 'ANANAS'}}, {'_index': 'ES', '_source': {'item_name': 'SÜßKARTOFFELN '}}, {'_index': 'ES', '_source': {'item_name': 'FUNNY CHIPSFRISCH'}}, {'_index': 'ES', '_source': {'item_name': 'F-F CHIPSFRISCH GE'}}, {'_index': 'ES', '_source': {'item_name': 'G&G STEINOFENPIZZA'}}, {'_index': 'ES', '_source': {'item_name': 'G&G FETTUCCINE'}}, {'_index': 'ES', '_source': {'item_name': 'LEIBNIZ KUNTERBUNT'}}, {'_index': 'ES', '_source': {'item_name': 'G+G FRUEHLINGSRO 4'}}, {'_index': 'ES', '_source': {'item_name': 'WAGNER FLAMMKUCHEN'}}, {'_index': 'ES', '_source': {'item_name': 'GARNIER SHAMPOO'}}, {'_index': 'ES', '_source': {'item_name': 'TADIM MAIS BARBEQ.'}}, {'_index': 'ES', '_source': {'item_name': 'G&G KRÄU.BAGUETTE'}}, {'_index': 'ES', '_source': {'item_name': 'SKITTLES CRAZY SO.'}}, {'_index': 'ES', '_source': {'item_name': 'MAXI KING3ER'}}, {'_index': 'ES', '_source': {'item_name': 'MAGGI MAGIC ASIA'}}, {'_index': 'ES', '_source': {'item_name': 'LEIBNIZ KEKS'}}, {'_index': 'ES', '_source': {'item_name': 'PFANN.GR.TEE 2L'}}, {'_index': 'ES', '_source': {'item_name': 'CLUB MATE 0,50L'}}, {'_index': 'ES', '_source': {'item_name': 'SAN PELLE LIMONATA'}}, {'_index': 'ES', '_source': {'item_name': 'WILT.SALAMI'}}, {'_index': 'ES', '_source': {'item_name': 'BALANCE TOAST'}}, {'_index': 'ES', '_source': {'item_name': 'BIO BANANEN 1,248kg'}}, {'_index': 'ES', '_source': {'item_name': 'NUTELLA'}}, {'_index': 'ES', '_source': {'item_name': 'VEHAPPY SOJAGURT'}}, {'_index': 'ES', '_source': {'item_name': 'F-F CHIPSFR UNGAR'}}, {'_index': 'ES', '_source': {'item_name': 'SW OLIVEN O STEIN'}}, {'_index': 'ES', '_source': {'item_name': 'EAT HAPPY SUSHI'}}, {'_index': 'ES', '_source': {'item_name': 'RED BAND SCHNULLER'}}, {'_index': 'ES', '_source': {'item_name': 'CHAMP OFENKASSE 18'}}, {'_index': 'ES', '_source': {'item_name': 'HAPPY DAY BANANE'}}, {'_index': 'ES', '_source': {'item_name': 'Frischwurst-Sortim'}}, {'_index': 'ES', '_source': {'item_name': 'Landbrötchen'}}, {'_index': 'ES', '_source': {'item_name': 'Fruchtnek. Premium'}}, {'_index': 'ES', '_source': {'item_name': 'Meerrettich '}}, {'_index': 'ES', '_source': {'item_name': 'Feinwasch. 1,75kg'}}, {'_index': 'ES', '_source': {'item_name': 'Multivitaminsaft'}}, {'_index': 'ES', '_source': {'item_name': 'Bio Weizenmilch'}}, {'_index': 'ES', '_source': {'item_name': 'Fettarme Milch 1,5 '}}, {'_index': 'ES', '_source': {'item_name': 'Erdnüsse 400g'}}, {'_index': 'ES', '_source': {'item_name': 'Mandarinen lose '}}, {'_index': 'ES', '_source': {'item_name': 'Obstknotenbeutel '}}, {'_index': 'ES', '_source': {'item_name': 'Ferrero Tic Tac'}}, {'_index': 'ES', '_source': {'item_name': 'Landl Grieß-/Pu150'}}, {'_index': 'ES', '_source': {'item_name': 'Kuscheld.Fransen'}}, {'_index': 'ES', '_source': {'item_name': 'Paniermehl'}}, {'_index': 'ES', '_source': {'item_name': 'Ramazzotti Crema '}}, {'_index': 'ES', '_source': {'item_name': 'Mascarpone'}}, {'_index': 'ES', '_source': {'item_name': 'Kakao'}}, {'_index': 'ES', '_source': {'item_name': 'Schlagsahne 200g'}}, {'_index': 'ES', '_source': {'item_name': 'GL: TK Gemüsesorti'}}, {'_index': 'ES', '_source': {'item_name': 'Eier a Freilan OKT'}}, {'_index': 'ES', '_source': {'item_name': 'Pinkie Donut'}}, {'_index': 'ES', '_source': {'item_name': 'Ferrero Milchschn.'}}, {'_index': 'ES', '_source': {'item_name': 'Haselnussk. geh.'}}, {'_index': 'ES', '_source': {'item_name': 'Haselnussk. gem.'}}, {'_index': 'ES', '_source': {'item_name': 'Giotto 38,7g'}}, {'_index': 'ES', '_source': {'item_name': 'Chardonnay Garda'}}, {'_index': 'ES', '_source': {'item_name': 'Brotgur Gstick'}}, {'_index': 'ES', '_source': {'item_name': 'Koenig Pilsener'}}, {'_index': 'ES', '_source': {'item_name': 'Frueh Koelsch500ml'}}, {'_index': 'ES', '_source': {'item_name': 'Ananas in Stück'}}, {'_index': 'ES', '_source': {'item_name': 'Thunfischröllchen'}}, {'_index': 'ES', '_source': {'item_name': 'Thunfisch i.Wasser'}}, {'_index': 'ES', '_source': {'item_name': 'NRW Milch1.5% 1L'}}, {'_index': 'ES', '_source': {'item_name': 'Schlesische Gurken'}}, {'_index': 'ES', '_source': {'item_name': 'Ehrmann Bio Almigh'}}, {'_index': 'ES', '_source': {'item_name': 'Feinkostsalat 400g'}}, {'_index': 'ES', '_source': {'item_name': 'Nadler Heringsfil.'}}, {'_index': 'ES', '_source': {'item_name': 'Heringssalat 250g'}}, {'_index': 'ES', '_source': {'item_name': 'Schmelzkaesezub.'}}, {'_index': 'ES', '_source': {'item_name': 'RheinFleischwSalat'}}, {'_index': 'ES', '_source': {'item_name': 'Gouda mittela'}}, {'_index': 'ES', '_source': {'item_name': 'Maasdamer Scheiben'}}, {'_index': 'ES', '_source': {'item_name': 'Mini-Teller'}}, {'_index': 'ES', '_source': {'item_name': 'Streich-Minis'}}, {'_index': 'ES', '_source': {'item_name': 'Mini P. Räucherl.'}}, {'_index': 'ES', '_source': {'item_name': 'Geflügel-Frischwur'}}, {'_index': 'ES', '_source': {'item_name': 'Bio-Edel-/Lauchssch'}}, {'_index': 'ES', '_source': {'item_name': 'Nimm2 Bonbons'}}, {'_index': 'ES', '_source': {'item_name': 'Frz. Weichkäse'}}, {'_index': 'ES', '_source': {'item_name': 'Smoothie'}}, {'_index': 'ES', '_source': {'item_name': 'Multifunktionsoel'}}, {'_index': 'ES', '_source': {'item_name': 'GouFlorentiner150g'}}, {'_index': 'ES', '_source': {'item_name': 'Kl. Sandw. Dinkel'}}, {'_index': 'ES', '_source': {'item_name': 'Meggle Streichzart'}}, {'_index': 'ES', '_source': {'item_name': 'TOMA D’OR'}}, {'_index': 'ES', '_source': {'item_name': 'AEPFEL'}}, {'_index': 'ES', '_source': {'item_name': 'BIRNEN'}}, {'_index': 'ES', '_source': {'item_name': 'MINIGURKEN'}}, {'_index': 'ES', '_source': {'item_name': 'Hackfleisch Schwe'}}, {'_index': 'ES', '_source': {'item_name': 'Frische Trinkmilch'}}, {'_index': 'ES', '_source': {'item_name': 'Zartbitterschokolade'}}, {'_index': 'ES', '_source': {'item_name': 'Dill oder Peter'}}, {'_index': 'ES', '_source': {'item_name': '18 Lebensmittel 7%'}}, {'_index': 'ES', '_source': {'item_name': 'ORANGEN'}}, {'_index': 'ES', '_source': {'item_name': 'TOMATEN SWEE'}}, {'_index': 'ES', '_source': {'item_name': 'MANDARINEN'}}, {'_index': 'ES', '_source': {'item_name': 'Sauerkraut mit Karot'}}, {'_index': 'ES', '_source': {'item_name': 'Senf Sarepska'}}, {'_index': 'ES', '_source': {'item_name': 'Frischkaese Tworog'}}, {'_index': 'ES', '_source': {'item_name': 'Schmelzkaese'}}, {'_index': 'ES', '_source': {'item_name': 'Brotaufstrich'}}, {'_index': 'ES', '_source': {'item_name': 'Schmelzkaese Lachs'}}, {'_index': 'ES', '_source': {'item_name': 'Smietana Polska'}}, {'_index': 'ES', '_source': {'item_name': 'Natron'}}, {'_index': 'ES', '_source': {'item_name': 'Gebratene Sprotten'}}, {'_index': 'ES', '_source': {'item_name': 'Gez.Ko.Milch 8%'}}, {'_index': 'ES', '_source': {'item_name': 'Prjaniki Severnye'}}, {'_index': 'ES', '_source': {'item_name': 'Holodok Feingbaeck'}}, {'_index': 'ES', '_source': {'item_name': 'Lorbeerbaetter'}}, {'_index': 'ES', '_source': {'item_name': 'Buchweizen DA'}}, {'_index': 'ES', '_source': {'item_name': 'Paprika edelsuess'}}, {'_index': 'ES', '_source': {'item_name': 'Schweinefleisch'}}, {'_index': 'ES', '_source': {'item_name': 'ROTE BETE'}}, {'_index': 'ES', '_source': {'item_name': 'WEISKOHL'}}, {'_index': 'ES', '_source': {'item_name': 'Hoernchenudeln'}}, {'_index': 'ES', '_source': {'item_name': 'Radieschen'}}, {'_index': 'ES', '_source': {'item_name': 'Eisbergsalat'}}, {'_index': 'ES', '_source': {'item_name': 'Gefluegelrolle'}}, {'_index': 'ES', '_source': {'item_name': 'Wrigleys Extra I.'}}, {'_index': 'ES', '_source': {'item_name': 'Staudensellerie'}}, {'_index': 'ES', '_source': {'item_name': 'Flatbread Sandwich'}}, {'_index': 'ES', '_source': {'item_name': 'Kinder Riegel'}}, {'_index': 'ES', '_source': {'item_name': 'Bacon'}}, {'_index': 'ES', '_source': {'item_name': 'CC lig.Ze.Fa. 6x'}}, {'_index': 'ES', '_source': {'item_name': 'XXL Chicken Wings'}}, {'_index': 'ES', '_source': {'item_name': 'Spitzpaprika rot'}}, {'_index': 'ES', '_source': {'item_name': 'Macarons'}}, {'_index': 'ES', '_source': {'item_name': 'Kiwi gold Stück'}}, {'_index': 'ES', '_source': {'item_name': 'Kartoffeln fk2.5kg'}}, {'_index': 'ES', '_source': {'item_name': 'Rispentomaten lose'}}, {'_index': 'ES', '_source': {'item_name': 'Müllbeutel 50l'}}, {'_index': 'ES', '_source': {'item_name': 'Auberginen Stück'}}, {'_index': 'ES', '_source': {'item_name': 'Zuckermais 400g va'}}, {'_index': 'ES', '_source': {'item_name': 'Apfelschorle 0,25l'}}, {'_index': 'ES', '_source': {'item_name': 'DIEBELS ALT 0,5L '}}, {'_index': 'ES', '_source': {'item_name': 'KROMB.PILS 0,5L'}}, {'_index': 'ES', '_source': {'item_name': 'FRUCH KOELSCH'}}, {'_index': 'ES', '_source': {'item_name': 'MF MULTIVIT.1,5L'}}, {'_index': 'ES', '_source': {'item_name': 'G&G SALZSTANGEN'}}, {'_index': 'ES', '_source': {'item_name': 'ERDNUBLOCKEN'}}, {'_index': 'ES', '_source': {'item_name': 'LAYS BUGLES NACHO'}}, {'_index': 'ES', '_source': {'item_name': 'G+G JOGHURT+KNUSPE'}}, {'_index': 'ES', '_source': {'item_name': 'E.THUNFISCHSALAT'}}, {'_index': 'ES', '_source': {'item_name': 'YUM YUM SUPPE'}}, {'_index': 'ES', '_source': {'item_name': 'G+G INST KAFFEE GO'}}, {'_index': 'ES', '_source': {'item_name': 'G&G CHIPS PAPRIKA'}}, {'_index': 'ES', '_source': {'item_name': 'G+G KAFFEEWEISSER'}}, {'_index': 'ES', '_source': {'item_name': 'LUCKY STRIKE RED'}}, {'_index': 'ES', '_source': {'item_name': 'DIAM.WÜRFELZUCKEN'}}, {'_index': 'ES', '_source': {'item_name': 'G+G MINI HOERNCHEN'}}, {'_index': 'ES', '_source': {'item_name': 'BIO FOODL.RIEGEL'}}, {'_index': 'ES', '_source': {'item_name': 'KON.PILSENER 0,5L'}}, {'_index': 'ES', '_source': {'item_name': 'J.BEAM&COLA 0,33L'}}, {'_index': 'ES', '_source': {'item_name': 'HENG SEIDENKNOEDEL'}}, {'_index': 'ES', '_source': {'item_name': 'WURST'}}, {'_index': 'ES', '_source': {'item_name': 'G+G ZUCKER'}}, {'_index': 'ES', '_source': {'item_name': 'TEEKANNE FIXMINZE'}}, {'_index': 'ES', '_source': {'item_name': 'PAPPIKA ROT'}}, {'_index': 'ES', '_source': {'item_name': 'ROULADENNAD.'}}, {'_index': 'ES', '_source': {'item_name': 'OLYMP.FETA CLASSIC'}}, {'_index': 'ES', '_source': {'item_name': 'SCHWARZERTEE'}}, {'_index': 'ES', '_source': {'item_name': 'KNORR SALATKRÖNU.'}}, {'_index': 'ES', '_source': {'item_name': 'ANKERKR.GEWÜRZ'}}, {'_index': 'ES', '_source': {'item_name': 'G+G FRUECHTETEE'}}, {'_index': 'ES', '_source': {'item_name': 'TOMATEN 250G'}}, {'_index': 'ES', '_source': {'item_name': 'HAUSM.BLUTW.'}}, {'_index': 'ES', '_source': {'item_name': 'OS ZWIEBELN'}}, {'_index': 'ES', '_source': {'item_name': 'G&G VOLLK.SANDWICH'}}, {'_index': 'ES', '_source': {'item_name': 'E TAHIT VANILLE'}}, {'_index': 'ES', '_source': {'item_name': 'E.PARADIS D.CHOCO.'}}, {'_index': 'ES', '_source': {'item_name': 'DR.OETKER KUCHEN '}}, {'_index': 'ES', '_source': {'item_name': 'LANDL VANILL'}}, {'_index': 'ES', '_source': {'item_name': 'E ELKOS BABAYPUDER'}}, {'_index': 'ES', '_source': {'item_name': 'MILKA GEBAECK'}}, {'_index': 'ES', '_source': {'item_name': 'CHOCOMEL 1L'}}, {'_index': 'ES', '_source': {'item_name': 'KETCHUP'}}, {'_index': 'ES', '_source': {'item_name': 'BIO Z.MAIS ECKEN'}}, {'_index': 'ES', '_source': {'item_name': 'J.SP.GEW.MISCHUNG'}}, {'_index': 'ES', '_source': {'item_name': 'BIO BANANEN 0,598kg'}}, {'_index': 'ES', '_source': {'item_name': 'POPCORN SWEET&SALT'}}, {'_index': 'ES', '_source': {'item_name': 'MARTINI BLAN.0,75L'}}, {'_index': 'ES', '_source': {'item_name': 'LANDMILCH 1L'}}, {'_index': 'ES', '_source': {'item_name': 'EIER BOH/GR XL/KL'}}, {'_index': 'ES', '_source': {'item_name': 'RIND-ROULADE'}}, {'_index': 'ES', '_source': {'item_name': 'KARTOFFELN LOSE'}}, {'_index': 'ES', '_source': {'item_name': 'GAFFEL KOEL.6X0,3'}}, {'_index': 'ES', '_source': {'item_name': 'BM FEITARME MILCH'}}, {'_index': 'ES', '_source': {'item_name': 'BISTRO BAGUETTE 25'}}, {'_index': 'ES', '_source': {'item_name': 'E.MILD.ORAN.1L'}}, {'_index': 'ES', '_source': {'item_name': 'ACTIVE FRESH 0,75L'}}, {'_index': 'ES', '_source': {'item_name': 'FRITZ ZITRONE 0,5L'}}, {'_index': 'ES', '_source': {'item_name': 'AMECKE EISEN 1L'}}, {'_index': 'ES', '_source': {'item_name': 'F.F CHIPSFRISCH GE'}}, {'_index': 'ES', '_source': {'item_name': 'TH.HENRY MATE 0,5L'}}, {'_index': 'ES', '_source': {'item_name': 'E.ICE TEA 1,5L'}}, {'_index': 'ES', '_source': {'item_name': 'FISCHKONSERVE'}}, {'_index': 'ES', '_source': {'item_name': 'ULUD.ORANGE 0,33L'}}, {'_index': 'ES', '_source': {'item_name': 'G&G KN.BAGUETTE'}}, {'_index': 'ES', '_source': {'item_name': 'MILCHSCHNITT'}}, {'_index': 'ES', '_source': {'item_name': 'ROCKT.XD POW.0,5L'}}, {'_index': 'ES', '_source': {'item_name': 'MUH SCHOKO DRINK'}}, {'_index': 'ES', '_source': {'item_name': 'G&G TOR.CHIPS PAP.'}}, {'_index': 'ES', '_source': {'item_name': 'ROUGETTE OFEN 320G'}}, {'_index': 'ES', '_source': {'item_name': 'MSC G&G SHRIMPS'}}, {'_index': 'ES', '_source': {'item_name': 'ECHALOTTEN 250G'}}, {'_index': 'ES', '_source': {'item_name': 'KNOBL/INGWER PASTE '}}, {'_index': 'ES', '_source': {'item_name': 'DU DÄRFST LEBERWU.'}}, {'_index': 'ES', '_source': {'item_name': 'MING C. REISESSIG'}}, {'_index': 'ES', '_source': {'item_name': 'E.COUVERTURE'}}, {'_index': 'ES', '_source': {'item_name': 'LAUCHZWIEBEN'}}, {'_index': 'ES', '_source': {'item_name': 'CHEESE SAUCE'}}, {'_index': 'ES', '_source': {'item_name': 'BIO PILZE SHITAKE'}}, {'_index': 'ES', '_source': {'item_name': 'G&G FRISCHKÄSE'}}, {'_index': 'ES', '_source': {'item_name': 'TR FR SMOOTHIE 750'}}, {'_index': 'ES', '_source': {'item_name': 'LTE.URK.ANNO DAZU.'}}, {'_index': 'ES', '_source': {'item_name': 'DURST.KIR.ZIT.0,5L'}}, {'_index': 'ES', '_source': {'item_name': 'ORO DI PARMA'}}, {'_index': 'ES', '_source': {'item_name': 'CHILIFAEDEN'}}, {'_index': 'ES', '_source': {'item_name': 'JALAPENOS '}}, {'_index': 'ES', '_source': {'item_name': 'AEPFEL 0,746kg'}}, {'_index': 'ES', '_source': {'item_name': 'BIO E.ESPRESSO'}}, {'_index': 'ES', '_source': {'item_name': 'GG BANANEN'}}, {'_index': 'ES', '_source': {'item_name': 'TAFELTRAUBEN'}}, {'_index': 'ES', '_source': {'item_name': 'HELLA CLAS.6X0,75L'}}, {'_index': 'ES', '_source': {'item_name': 'GG BANANEN 1,080kg'}}, {'_index': 'ES', '_source': {'item_name': 'AEPFEL RED CHIEF'}}, {'_index': 'ES', '_source': {'item_name': 'WST JOGH 0,1% 500G'}}, {'_index': 'ES', '_source': {'item_name': 'DINKELWAFFELN'}}, {'_index': 'ES', '_source': {'item_name': 'LANDL TAFELBUTTER'}}, {'_index': 'ES', '_source': {'item_name': 'M&M’S PEANUT'}}, {'_index': 'ES', '_source': {'item_name': 'COCA-COLA DS'}}, {'_index': 'ES', '_source': {'item_name': 'BIO ALN.LINSENWAF.'}}, {'_index': 'ES', '_source': {'item_name': 'KINDER SCHOKOBONS'}}, {'_index': 'ES', '_source': {'item_name': 'PORREE'}}, {'_index': 'ES', '_source': {'item_name': 'BALLENSALAT'}}, {'_index': 'ES', '_source': {'item_name': 'LINDOR KUGEL MIX'}}, {'_index': 'ES', '_source': {'item_name': 'DUPLO 10ER'}}, {'_index': 'ES', '_source': {'item_name': 'MÖHREN'}}, {'_index': 'ES', '_source': {'item_name': 'STÜRCK NIMM2LACHG.'}}, {'_index': 'ES', '_source': {'item_name': 'KULTURHEIDELBEEREN'}}, {'_index': 'ES', '_source': {'item_name': 'Blätterteig'}}, {'_index': 'ES', '_source': {'item_name': 'Thymian gerebelt'}}, {'_index': 'ES', '_source': {'item_name': 'Bio Gemüsemais'}}, {'_index': 'ES', '_source': {'item_name': 'Grüne Oliven entst.'}}, {'_index': 'ES', '_source': {'item_name': 'Rührkuchen Marmor'}}, {'_index': 'ES', '_source': {'item_name': 'Gefrierbeut m.Zip 3l'}}, {'_index': 'ES', '_source': {'item_name': 'Abfallsäcke 60l 25er'}}, {'_index': 'ES', '_source': {'item_name': 'Frühstückbeutel '}}, {'_index': 'ES', '_source': {'item_name': 'Hähnchenbr.Filet600g'}}, {'_index': 'ES', '_source': {'item_name': 'Ingwer Bio kg'}}, {'_index': 'ES', '_source': {'item_name': 'Bananen kg'}}, {'_index': 'ES', '_source': {'item_name': 'Peperoni Mix'}}, {'_index': 'ES', '_source': {'item_name': 'Zitronen'}}, {'_index': 'ES', '_source': {'item_name': 'Zwiebeln rot'}}, {'_index': 'ES', '_source': {'item_name': 'Trauben Nuss Müsli'}}, {'_index': 'ES', '_source': {'item_name': 'Lavazza EcoCaps Armo'}}, {'_index': 'ES', '_source': {'item_name': 'Lavazza EcoCaps Deci'}}, {'_index': 'ES', '_source': {'item_name': 'Kölln Müsli Keks'}}, {'_index': 'ES', '_source': {'item_name': 'H-MILCH 3,5% OGT'}}, {'_index': 'ES', '_source': {'item_name': 'Thunfischs. Western'}}, {'_index': 'ES', '_source': {'item_name': 'Thunf.Skipj.eig.Saft'}}, {'_index': 'ES', '_source': {'item_name': 'Wasser Still'}}, {'_index': 'ES', '_source': {'item_name': 'Edelstahltopfreinig.'}}, {'_index': 'ES', '_source': {'item_name': 'Eierkocher 0353037'}}, {'_index': 'ES', '_source': {'item_name': 'Iglo Backfischstäb.'}}, {'_index': 'ES', '_source': {'item_name': 'Girone Pizza Mozzar'}}, {'_index': 'ES', '_source': {'item_name': 'Müllerm.Prot.CocoSch'}}, {'_index': 'ES', '_source': {'item_name': 'Müllerm.Prot.Vanille 0,49x2'}}, {'_index': 'ES', '_source': {'item_name': 'Müllerm.Prot.Bananen'}}, {'_index': 'ES', '_source': {'item_name': 'Coca Cola 1,25l'}}, {'_index': 'ES', '_source': {'item_name': 'Dörüm Wraps'}}, {'_index': 'ES', '_source': {'item_name': 'Weißkohl kg'}}, {'_index': 'ES', '_source': {'item_name': 'Traub dunk 500g'}}, {'_index': 'ES', '_source': {'item_name': 'Speisekartoffeln'}}, {'_index': 'ES', '_source': {'item_name': 'Bioland Zwiebeln'}}, {'_index': 'ES', '_source': {'item_name': 'Möhren 1kg'}}, {'_index': 'ES', '_source': {'item_name': 'Apfel rot'}}, {'_index': 'ES', '_source': {'item_name': 'TK Hähn.Nug.Cornflak'}}, {'_index': 'ES', '_source': {'item_name': 'Fruchtzwerge Banane'}}, {'_index': 'ES', '_source': {'item_name': 'Sonnenblumenöl 1l'}}, {'_index': 'ES', '_source': {'item_name': 'Bio Fusilli'}}, {'_index': 'ES', '_source': {'item_name': 'Getränk Multi 14er'}}, {'_index': 'ES', '_source': {'item_name': 'Alpenvollm. Schoko'}}, {'_index': 'ES', '_source': {'item_name': 'Überraschungsel'}}, {'_index': 'ES', '_source': {'item_name': 'Milchbrötchen'}}, {'_index': 'ES', '_source': {'item_name': 'Schokobrötchen'}}, {'_index': 'ES', '_source': {'item_name': 'Vollkorn Sonnen.Brot'}}, {'_index': 'ES', '_source': {'item_name': 'Zucchini kg'}}, {'_index': 'ES', '_source': {'item_name': 'Paprika rot kg'}}, {'_index': 'ES', '_source': {'item_name': 'K.champignons'}}, {'_index': 'ES', '_source': {'item_name': 'Knoblauch '}}, {'_index': 'ES', '_source': {'item_name': 'Zwiebeln gelb'}}, {'_index': 'ES', '_source': {'item_name': 'Bio Möhren'}}, {'_index': 'ES', '_source': {'item_name': 'ASC Garnelen'}}, {'_index': 'ES', '_source': {'item_name': 'Hühnerfrikassee'}}, {'_index': 'ES', '_source': {'item_name': 'Röschentriologie'}}, {'_index': 'ES', '_source': {'item_name': 'Bioland Mozzarella'}}, {'_index': 'ES', '_source': {'item_name': 'Parmigiano Reggiano'}}, {'_index': 'ES', '_source': {'item_name': 'Dt. Markenbutter'}}, {'_index': 'ES', '_source': {'item_name': 'Curry Snacker'}}, {'_index': 'ES', '_source': {'item_name': 'Eier a.dt.Freilandh.'}}, {'_index': 'ES', '_source': {'item_name': 'Hähnchenbrustfilet'}}, {'_index': 'ES', '_source': {'item_name': 'Kaki/Sharon'}}, {'_index': 'ES', '_source': {'item_name': 'Bockwürstchen ITW2'}}, {'_index': 'ES', '_source': {'item_name': 'Eier aus NRW'}}, {'_index': 'ES', '_source': {'item_name': 'Miracoli Spaghetti'}}, {'_index': 'ES', '_source': {'item_name': 'Passierte Tomaten'}}, {'_index': 'ES', '_source': {'item_name': 'Ener. Dr. Watermelon'}}, {'_index': 'ES', '_source': {'item_name': 'Colossus Energy'}}, {'_index': 'ES', '_source': {'item_name': 'Cola light'}}, {'_index': 'ES', '_source': {'item_name': 'Kü.kernbrötchen'}}, {'_index': 'ES', '_source': {'item_name': 'Weltmeisterbr.'}}, {'_index': 'ES', '_source': {'item_name': 'Rosenbröt.dunke'}}, {'_index': 'ES', '_source': {'item_name': 'Muffins dunkel'}}, {'_index': 'ES', '_source': {'item_name': 'Hähnchen-Geschn.'}}, {'_index': 'ES', '_source': {'item_name': 'Wellenschnitt Frites'}}, {'_index': 'ES', '_source': {'item_name': 'Rapsöl 1l'}}, {'_index': 'ES', '_source': {'item_name': 'Kürbis Butt. Kg'}}, {'_index': 'ES', '_source': {'item_name': 'Traditionsschinken'}}, {'_index': 'ES', '_source': {'item_name': 'Deospray Polar fresh'}}, {'_index': 'ES', '_source': {'item_name': 'Handseife Milch&Hon.'}}, {'_index': 'ES', '_source': {'item_name': 'BYC pflegende Tücher'}}, {'_index': 'ES', '_source': {'item_name': 'Backpapier [braun]'}}, {'_index': 'ES', '_source': {'item_name': 'Rinderhackf1.5%'}}, {'_index': 'ES', '_source': {'item_name': '7UP'}}, {'_index': 'ES', '_source': {'item_name': 'Rosenbrötchen'}}, {'_index': 'ES', '_source': {'item_name': 'Apfel grün kg'}}, {'_index': 'ES', '_source': {'item_name': 'Zitronen 750g'}}, {'_index': 'ES', '_source': {'item_name': 'Paprika rot'}}, {'_index': 'ES', '_source': {'item_name': 'Broccoli'}}, {'_index': 'ES', '_source': {'item_name': 'Paprika rot, Spitz'}}, {'_index': 'ES', '_source': {'item_name': 'Petersilie glatt'}}, {'_index': 'ES', '_source': {'item_name': 'Romana Salat'}}, {'_index': 'ES', '_source': {'item_name': 'Basilikum im Topf'}}, {'_index': 'ES', '_source': {'item_name': 'Argent. Rotgarnelen'}}, {'_index': 'ES', '_source': {'item_name': 'Weichkäse OGT'}}, {'_index': 'ES', '_source': {'item_name': 'Veganer Aufstr. Natur'}}, {'_index': 'ES', '_source': {'item_name': 'Salate-Mix sort'}}, {'_index': 'ES', '_source': {'item_name': 'Rohrzucker Fairglobe'}}, {'_index': 'ES', '_source': {'item_name': 'Weizenmehl 1kg'}}, {'_index': 'ES', '_source': {'item_name': 'Bio Olivenöl extra'}}, {'_index': 'ES', '_source': {'item_name': 'Haselnusskerne ganz'}}, {'_index': 'ES', '_source': {'item_name': 'Pecannusskerne 200g'}}, {'_index': 'ES', '_source': {'item_name': 'Snack-Mandeln'}}, {'_index': 'ES', '_source': {'item_name': 'Ital.Haselnuss Natur'}}, {'_index': 'ES', '_source': {'item_name': 'Maissnack'}}, {'_index': 'ES', '_source': {'item_name': 'Aluguss-Pfan 0366084'}}, {'_index': 'ES', '_source': {'item_name': 'Teigschaber 0366129'}}, {'_index': 'ES', '_source': {'item_name': 'Berliner m.Füll'}}, {'_index': 'ES', '_source': {'item_name': 'HA-GYROS ZWIEB.'}}, {'_index': 'ES', '_source': {'item_name': 'ROHSCHINK. GEW'}}, {'_index': 'ES', '_source': {'item_name': 'KRAUTSALAT'}}, {'_index': 'ES', '_source': {'item_name': 'Kartoffeln 2.5kg'}}, {'_index': 'ES', '_source': {'item_name': 'EIER BH 10ER OKT'}}, {'_index': 'ES', '_source': {'item_name': 'INSTANINUDDELN'}}, {'_index': 'ES', '_source': {'item_name': 'CHILISAUCE'}}, {'_index': 'ES', '_source': {'item_name': 'Kinder bueno W.'}}, {'_index': 'ES', '_source': {'item_name': 'PY Miwa medium'}}, {'_index': 'ES', '_source': {'item_name': 'Coca Cola Zero'}}, {'_index': 'ES', '_source': {'item_name': 'TURMBRAEU Dose'}}, {'_index': 'ES', '_source': {'item_name': 'EMMENTALER 250G'}}, {'_index': 'ES', '_source': {'item_name': 'Vollkorntoast'}}, {'_index': 'ES', '_source': {'item_name': 'BK Toastbrötchen'}}, {'_index': 'ES', '_source': {'item_name': 'PENNY FLEISCHSAL'}}, {'_index': 'ES', '_source': {'item_name': 'PENNY Kondensmil'}}, {'_index': 'ES', '_source': {'item_name': 'HAEHNCHEN SUESS'}}, {'_index': 'ES', '_source': {'item_name': 'GEMUESECURRY'}}, {'_index': 'ES', '_source': {'item_name': 'TORTIL.HOT CHILI'}}, {'_index': 'ES', '_source': {'item_name': 'MULTIVITAMINSAFT'}}, {'_index': 'ES', '_source': {'item_name': 'Melitta Auslese'}}, {'_index': 'ES', '_source': {'item_name': 'Smarties Minis'}}, {'_index': 'ES', '_source': {'item_name': 'Meggle Kräuterbu'}}, {'_index': 'ES', '_source': {'item_name': 'BIO HAFERDRINK'}}, {'_index': 'ES', '_source': {'item_name': 'EXPRES.REIS MEX.'}}, {'_index': 'ES', '_source': {'item_name': 'Greenland Bohnen'}}, {'_index': 'ES', '_source': {'item_name': 'Bechergericht'}}, {'_index': 'ES', '_source': {'item_name': 'KL. WIENER HAEHN'}}, {'_index': 'ES', '_source': {'item_name': 'GEFLUGELWIENER'}}, {'_index': 'ES', '_source': {'item_name': 'ERBSEN M.KARTTE '}}, {'_index': 'ES', '_source': {'item_name': 'VENTI LUNE ROSSO'}}, {'_index': 'ES', '_source': {'item_name': 'Pepsi Cola Max'}}, {'_index': 'ES', '_source': {'item_name': 'Norweger Socken'}}, {'_index': 'ES', '_source': {'item_name': 'EDELSALAMI'}}, {'_index': 'ES', '_source': {'item_name': 'Frischkäse Natur'}}, {'_index': 'ES', '_source': {'item_name': 'PENNY H-MILCH'}}, {'_index': 'ES', '_source': {'item_name': 'PENNY Pizza'}}, {'_index': 'ES', '_source': {'item_name': 'Thai chef Huhn'}}, {'_index': 'ES', '_source': {'item_name': 'ULUDG GAZOS'}}, {'_index': 'ES', '_source': {'item_name': 'HAEHNCHENBRUST'}}, {'_index': 'ES', '_source': {'item_name': 'SCHINKEN NUGGETZ'}}, {'_index': 'ES', '_source': {'item_name': 'LAEKKERGARDEN UN'}}, {'_index': 'ES', '_source': {'item_name': 'Milka Kuhflecken'}}, {'_index': 'ES', '_source': {'item_name': 'Milka Ganze H.'}}, {'_index': 'ES', '_source': {'item_name': 'Milka Alpen. +LU'}}, {'_index': 'ES', '_source': {'item_name': 'AYRAN NATUR'}}, {'_index': 'ES', '_source': {'item_name': 'Landmark Wings '}}, {'_index': 'ES', '_source': {'item_name': 'Bitburger Pils'}}, {'_index': 'ES', '_source': {'item_name': 'AYRAN JOGH.GETR.'}}, {'_index': 'ES', '_source': {'item_name': 'Penny Thunfisch '}}, {'_index': 'ES', '_source': {'item_name': 'CHAMPIOLADE'}}, {'_index': 'ES', '_source': {'item_name': 'Monster Mega ML'}}, {'_index': 'ES', '_source': {'item_name': 'EnergizerMAX AA'}}, {'_index': 'ES', '_source': {'item_name': 'Hä.-Brustfilet'}}, {'_index': 'ES', '_source': {'item_name': 'Avocado Stück'}}, {'_index': 'ES', '_source': {'item_name': 'Milka Creme '}}, {'_index': 'ES', '_source': {'item_name': 'LEIBNIZ BUTTERK.'}}, {'_index': 'ES', '_source': {'item_name': 'PARADISO TRAUBE'}}, {'_index': 'ES', '_source': {'item_name': 'PARADISO MANGO'}}, {'_index': 'ES', '_source': {'item_name': 'MOZZARELLA GER'}}, {'_index': 'ES', '_source': {'item_name': 'BLAETTERTEIG'}}, {'_index': 'ES', '_source': {'item_name': 'PENNY Gewürz'}}, {'_index': 'ES', '_source': {'item_name': 'OLIVEN SCHEIB.GR'}}, {'_index': 'ES', '_source': {'item_name': 'PENNY Sonnenmais '}}, {'_index': 'ES', '_source': {'item_name': 'PENNY Champig.3W'}}, {'_index': 'ES', '_source': {'item_name': 'Red Bull Sugarfr'}}, {'_index': 'ES', '_source': {'item_name': 'Bio Cherryromat.'}}, {'_index': 'ES', '_source': {'item_name': 'Kinder Bueno'}}, {'_index': 'ES', '_source': {'item_name': 'Pepsi Cola Max C'}}, {'_index': 'ES', '_source': {'item_name': 'BULLIT SUGARFREE'}}, {'_index': 'ES', '_source': {'item_name': 'Fairtrade Rosen '}}, {'_index': 'ES', '_source': {'item_name': 'SIZZLN CHEESE'}}, {'_index': 'ES', '_source': {'item_name': 'Turmbräu Radler'}}, {'_index': 'ES', '_source': {'item_name': 'COLA  MAX VANILLA'}}, {'_index': 'ES', '_source': {'item_name': 'PD KOKOSRASPEL'}}, {'_index': 'ES', '_source': {'item_name': 'SW Bratwurst'}}, {'_index': 'ES', '_source': {'item_name': 'JAGDWURST'}}, {'_index': 'ES', '_source': {'item_name': 'SCHINKENWURST'}}, {'_index': 'ES', '_source': {'item_name': 'PENNY Gouda 48%'}}, {'_index': 'ES', '_source': {'item_name': 'BAGUETTE KNOBL.'}}, {'_index': 'ES', '_source': {'item_name': 'Limette Bio'}}, {'_index': 'ES', '_source': {'item_name': 'Erdnüsse XXL'}}, {'_index': 'ES', '_source': {'item_name': 'BIO EIER 6ER'}}, {'_index': 'ES', '_source': {'item_name': 'Mixery Dose'}}, {'_index': 'ES', '_source': {'item_name': 'WINZERGLUEHW. RO'}}, {'_index': 'ES', '_source': {'item_name': 'WINZERGLUEHW. WS'}}, {'_index': 'ES', '_source': {'item_name': 'Greenl. Spinat'}}, {'_index': 'ES', '_source': {'item_name': 'KIRI SAHNE '}}, {'_index': 'ES', '_source': {'item_name': 'SAN FABIO GRANA'}}, {'_index': 'ES', '_source': {'item_name': 'Champignons weiß'}}, {'_index': 'ES', '_source': {'item_name': 'PENNY MEHL'}}, {'_index': 'ES', '_source': {'item_name': 'San Fab. Pizzato'}}, {'_index': 'ES', '_source': {'item_name': 'FAIR COOKIES'}}, {'_index': 'ES', '_source': {'item_name': 'ROCKSTAR MANGO'}}, {'_index': 'ES', '_source': {'item_name': 'XD P TROPICAL'}}, {'_index': 'ES', '_source': {'item_name': 'MONSTER MULE'}}, {'_index': 'ES', '_source': {'item_name': 'Blik Spezialsalz'}}, {'_index': 'ES', '_source': {'item_name': 'Blik Raumduft'}}, {'_index': 'ES', '_source': {'item_name': 'DUFTKERZE'}}, {'_index': 'ES', '_source': {'item_name': 'GERVAIS HUETTENK'}}, {'_index': 'ES', '_source': {'item_name': 'SANDWICH PUTE '}}, {'_index': 'ES', '_source': {'item_name': 'TUFFI SCHOKOMILC'}}, {'_index': 'ES', '_source': {'item_name': 'Uncle Bens Menü'}}, {'_index': 'ES', '_source': {'item_name': 'Milka Snowballs'}}, {'_index': 'ES', '_source': {'item_name': 'Paradiso Multi-N'}}, {'_index': 'ES', '_source': {'item_name': 'MOZZARELLA 45%'}}, {'_index': 'ES', '_source': {'item_name': 'PENNY ZUCKER'}}, {'_index': 'ES', '_source': {'item_name': 'Puda Puderzucker'}}, {'_index': 'ES', '_source': {'item_name': 'Puda Mandeln geh'}}, {'_index': 'ES', '_source': {'item_name': 'VANILLINZUCKER '}}, {'_index': 'ES', '_source': {'item_name': 'BACKPULVER '}}, {'_index': 'ES', '_source': {'item_name': 'Puda ZBKuvertüre'}}, {'_index': 'ES', '_source': {'item_name': 'STREUSEL ZARTBI.'}}, {'_index': 'ES', '_source': {'item_name': 'DEKOR STERNE'}}, {'_index': 'ES', '_source': {'item_name': 'CLUBS CRACKER'}}, {'_index': 'ES', '_source': {'item_name': 'Milka Noisette'}}, {'_index': 'ES', '_source': {'item_name': 'Milka Oreo W.'}}, {'_index': 'ES', '_source': {'item_name': 'Milka Alpenmilch'}}, {'_index': 'ES', '_source': {'item_name': 'Milka Oreo S.'}}, {'_index': 'ES', '_source': {'item_name': 'Coral Weichspuel'}}, {'_index': 'ES', '_source': {'item_name': 'PENNY Spülmittel'}}, {'_index': 'ES', '_source': {'item_name': 'SHAMPOO HONIG'}}, {'_index': 'ES', '_source': {'item_name': 'Felix 200g Schal'}}, {'_index': 'ES', '_source': {'item_name': 'Lucky Cat Snacks'}}, {'_index': 'ES', '_source': {'item_name': 'Lucky Cat 6l'}}, {'_index': 'ES', '_source': {'item_name': 'CAPPUCCINO'}}, {'_index': 'ES', '_source': {'item_name': 'Jodsalz'}}, {'_index': 'ES', '_source': {'item_name': 'PENNY COLA'}}, {'_index': 'ES', '_source': {'item_name': 'Jacobs Auslese'}}, {'_index': 'ES', '_source': {'item_name': 'RUMKUGELN'}}, {'_index': 'ES', '_source': {'item_name': 'Milka W.-Mann'}}, {'_index': 'ES', '_source': {'item_name': 'W-MAN DARK NUSS'}}, {'_index': 'ES', '_source': {'item_name': 'Kinder Maxi Ei'}}, {'_index': 'ES', '_source': {'item_name': 'TOFFIFEE WEIHN.M'}}, {'_index': 'ES', '_source': {'item_name': 'SCHOKOLINSEN-FIG'}}, {'_index': 'ES', '_source': {'item_name': 'SW Nackenst Pepp'}}, {'_index': 'ES', '_source': {'item_name': 'Sonntagsbrötchen'}}, {'_index': 'ES', '_source': {'item_name': 'Grappa Barrique'}}, {'_index': 'ES', '_source': {'item_name': 'Eintopf'}}, {'_index': 'ES', '_source': {'item_name': 'Granini Maracuja'}}, {'_index': 'ES', '_source': {'item_name': 'PENNY 4x102 B1'}}, {'_index': 'ES', '_source': {'item_name': 'PENNY Tom.mark'}}, {'_index': 'ES', '_source': {'item_name': 'Vital und Fit'}}, {'_index': 'ES', '_source': {'item_name': 'Vitaminbrot'}}, {'_index': 'ES', '_source': {'item_name': 'Maxi King'}}, {'_index': 'ES', '_source': {'item_name': 'Rios Double In'}}, {'_index': 'ES', '_source': {'item_name': 'Knop. Nussriegel'}}, {'_index': 'ES', '_source': {'item_name': 'KAKAO-SCHOKOKEKS'}}, {'_index': 'ES', '_source': {'item_name': 'PY Miwa Classic'}}, {'_index': 'ES', '_source': {'item_name': 'Chiquita Bananen'}}, {'_index': 'ES', '_source': {'item_name': 'GEFL BIERSCHINKE'}}, {'_index': 'ES', '_source': {'item_name': 'MINI SALAM. MILD'}}, {'_index': 'ES', '_source': {'item_name': 'Rosinenschnitten'}}, {'_index': 'ES', '_source': {'item_name': 'Vollkorn Sandw.'}}, {'_index': 'ES', '_source': {'item_name': 'PENNY REIS'}}, {'_index': 'ES', '_source': {'item_name': 'PENNY ÖL'}}, {'_index': 'ES', '_source': {'item_name': 'PENNY ERDNUSSE'}}, {'_index': 'ES', '_source': {'item_name': 'Ranchwood Whisk.'}}, {'_index': 'ES', '_source': {'item_name': 'PY BITTER LEMON'}}, {'_index': 'ES', '_source': {'item_name': 'PARADISO APF-KI'}}, {'_index': 'ES', '_source': {'item_name': 'PENNY CHO QUICK'}}, {'_index': 'ES', '_source': {'item_name': 'TIC TAC BERRYMIX'}}, {'_index': 'ES', '_source': {'item_name': 'Kaffeeweißer'}}, {'_index': 'ES', '_source': {'item_name': 'MINIMAX QUARK'}}, {'_index': 'ES', '_source': {'item_name': 'PENNY Fischstäbc'}}, {'_index': 'ES', '_source': {'item_name': 'Pasta Gericht'}}, {'_index': 'ES', '_source': {'item_name': 'Coca Cola 2L'}}, {'_index': 'ES', '_source': {'item_name': 'SCHWIP SCHWAP'}}, {'_index': 'ES', '_source': {'item_name': 'RB ENERGY'}}, {'_index': 'ES', '_source': {'item_name': 'PARAD. ACE DRINK'}}, {'_index': 'ES', '_source': {'item_name': 'R.ENGEL GLUEHWE.'}}, {'_index': 'ES', '_source': {'item_name': 'Turbo F.Z. 23Stk'}}, {'_index': 'ES', '_source': {'item_name': 'PENNY Der Kräfti'}}, {'_index': 'ES', '_source': {'item_name': 'Kinder Schokolad'}}, {'_index': 'ES', '_source': {'item_name': 'HARIBO COLOR-RAD'}}, {'_index': 'ES', '_source': {'item_name': 'Shetlan Weichsp'}}, {'_index': 'ES', '_source': {'item_name': 'Lucky Dog 300g'}}, {'_index': 'ES', '_source': {'item_name': 'SALAMI BEISSER'}}, {'_index': 'ES', '_source': {'item_name': 'KS GEFL.'}}, {'_index': 'ES', '_source': {'item_name': 'MINI BABYBEL'}}, {'_index': 'ES', '_source': {'item_name': 'TORTI.NACHO CHEE'}}, {'_index': 'ES', '_source': {'item_name': 'DIP CHEESE'}}, {'_index': 'ES', '_source': {'item_name': 'Edelmarzipanbrot'}}, {'_index': 'ES', '_source': {'item_name': 'Marzipanbrot Ana'}}, {'_index': 'ES', '_source': {'item_name': 'Zwiebeln 2kg'}}, {'_index': 'ES', '_source': {'item_name': 'Bio Babyspinat'}}, {'_index': 'ES', '_source': {'item_name': 'San Fabio Pizza'}}, {'_index': 'ES', '_source': {'item_name': 'Kinder Bueno Whi'}}, {'_index': 'ES', '_source': {'item_name': 'GRANINI LIMO LIM'}}, {'_index': 'ES', '_source': {'item_name': 'Zitronen 500g'}}, {'_index': 'ES', '_source': {'item_name': 'Salatherzen Roma'}}, {'_index': 'ES', '_source': {'item_name': 'Kinder Überrasch'}}, {'_index': 'ES', '_source': {'item_name': 'PY Miwa Still'}}, {'_index': 'ES', '_source': {'item_name': 'Kalbsleber'}}, {'_index': 'ES', '_source': {'item_name': 'St. Mang Limburg'}}, {'_index': 'ES', '_source': {'item_name': 'SUSHI HANA'}}, {'_index': 'ES', '_source': {'item_name': 'CC Zero 6x1,25l'}}, {'_index': 'ES', '_source': {'item_name': 'PY Toipa 10x200'}}, {'_index': 'ES', '_source': {'item_name': 'FUNNY UNGARISCH'}}, {'_index': 'ES', '_source': {'item_name': 'BABOL ZUNGENM.'}}, {'_index': 'ES', '_source': {'item_name': 'PICO BALLA VEGGI'}}, {'_index': 'ES', '_source': {'item_name': 'WUNDERLAND SAUER'}}, {'_index': 'ES', '_source': {'item_name': 'Mezzo Mix'}}, {'_index': 'ES', '_source': {'item_name': 'Pizza Margherita'}}, {'_index': 'ES', '_source': {'item_name': 'Donut Vollmilch'}}, {'_index': 'ES', '_source': {'item_name': 'Hot Dog Rolls'}}, {'_index': 'ES', '_source': {'item_name': 'SAHNEP. VANILLE'}}, {'_index': 'ES', '_source': {'item_name': 'BOCKWURST IN EH'}}, {'_index': 'ES', '_source': {'item_name': 'SNICKERS'}}, {'_index': 'ES', '_source': {'item_name': 'Toffifee'}}, {'_index': 'ES', '_source': {'item_name': 'LACHT.SOFT.ROTE'}}, {'_index': 'ES', '_source': {'item_name': 'POP MALLONIES'}}, {'_index': 'ES', '_source': {'item_name': 'VEGANES HACK'}}, {'_index': 'ES', '_source': {'item_name': 'HAFERDRINK UNGE.'}}, {'_index': 'ES', '_source': {'item_name': 'Landfr.Bratkart'}}, {'_index': 'ES', '_source': {'item_name': 'PENNY Mand. Or.'}}, {'_index': 'ES', '_source': {'item_name': 'FUNNY PAPRIKA'}}, {'_index': 'ES', '_source': {'item_name': 'FUNNY RINGLI'}}, {'_index': 'ES', '_source': {'item_name': 'SchinkKäseCroiss'}}, {'_index': 'ES', '_source': {'item_name': 'Hafer Sauerk-Moh'}}, {'_index': 'ES', '_source': {'item_name': 'Hafer Schoko'}}, {'_index': 'ES', '_source': {'item_name': 'Corny Protein Ba'}}, {'_index': 'ES', '_source': {'item_name': 'DIP NACHO CHEE.'}}, {'_index': 'ES', '_source': {'item_name': 'H.HIPPO CACAO'}}, {'_index': 'ES', '_source': {'item_name': 'VOLVI TEE PFIR'}}, {'_index': 'ES', '_source': {'item_name': 'GEFL. MORTADELLA'}}, {'_index': 'ES', '_source': {'item_name': 'Milka Daim'}}, {'_index': 'ES', '_source': {'item_name': 'Milka Luflee'}}, {'_index': 'ES', '_source': {'item_name': 'Red Bull Dose'}}, {'_index': 'ES', '_source': {'item_name': 'Henkell trocken'}}, {'_index': 'ES', '_source': {'item_name': 'L&M RED 3XL'}}, {'_index': 'ES', '_source': {'item_name': 'KS Minutensteak'}}, {'_index': 'ES', '_source': {'item_name': 'Hackfleisch gem.'}}, {'_index': 'ES', '_source': {'item_name': 'PU-Geschnetzelt.'}}, {'_index': 'ES', '_source': {'item_name': 'Hä. -Medillons'}}, {'_index': 'ES', '_source': {'item_name': 'MORTADELLA'}}, {'_index': 'ES', '_source': {'item_name': 'TRUTHAHNSALAM'}}, {'_index': 'ES', '_source': {'item_name': 'SCHWEINBRATEN'}}, {'_index': 'ES', '_source': {'item_name': 'PUTENBRUST'}}, {'_index': 'ES', '_source': {'item_name': 'MH Corned Beef'}}, {'_index': 'ES', '_source': {'item_name': 'CHEDDAR'}}, {'_index': 'ES', '_source': {'item_name': 'ZIEGENROLLE'}}, {'_index': 'ES', '_source': {'item_name': 'MOZZARELLA HALBF'}}, {'_index': 'ES', '_source': {'item_name': 'XXL HAMBURGER'}}, {'_index': 'ES', '_source': {'item_name': 'EIFELER SCHNITT'}}, {'_index': 'ES', '_source': {'item_name': 'Weizen Sandwich'}}, {'_index': 'ES', '_source': {'item_name': 'SCHUPFENUDELN'}}, {'_index': 'ES', '_source': {'item_name': 'BAGUETTE KRAEUT'}}, {'_index': 'ES', '_source': {'item_name': 'CHOCOCHINO'}}, {'_index': 'ES', '_source': {'item_name': 'Apfel Jonaprince'}}, {'_index': 'ES', '_source': {'item_name': 'PENNY HAFERFLOCK'}}, {'_index': 'ES', '_source': {'item_name': 'Granola Riegel'}}, {'_index': 'ES', '_source': {'item_name': 'Granola Blops'}}, {'_index': 'ES', '_source': {'item_name': 'OM Oliven o. St.'}}, {'_index': 'ES', '_source': {'item_name': 'OM getr. Tom. Öl'}}, {'_index': 'ES', '_source': {'item_name': 'SPEKULATIUS CREM'}}, {'_index': 'ES', '_source': {'item_name': 'MM Peanut Butter'}}, {'_index': 'ES', '_source': {'item_name': 'PENNY Sauerkraut'}}, {'_index': 'ES', '_source': {'item_name': 'SCHOKOKEKS ZB'}}, {'_index': 'ES', '_source': {'item_name': 'SUESSR BRATAPFEL'}}, {'_index': 'ES', '_source': {'item_name': 'Lebkuchen HSB ZB'}}, {'_index': 'ES', '_source': {'item_name': 'Lebk. Herzen ZB'}}, {'_index': 'ES', '_source': {'item_name': 'Gewürzspekulatiu'}}, {'_index': 'ES', '_source': {'item_name': 'FELDSALAT MIX'}}, {'_index': 'ES', '_source': {'item_name': 'BLATTSALAT MIX'}}, {'_index': 'ES', '_source': {'item_name': 'Studentenfutter'}}, {'_index': 'ES', '_source': {'item_name': 'Columbus Eier BH'}}, {'_index': 'ES', '_source': {'item_name': 'SPEISEQUARK MAG'}}, {'_index': 'ES', '_source': {'item_name': 'FRUJO 1,8% ERDB'}}, {'_index': 'ES', '_source': {'item_name': 'PY FRUJOGH. 1,8%'}}, {'_index': 'ES', '_source': {'item_name': 'PENNY Erdnüsse'}}, {'_index': 'ES', '_source': {'item_name': 'Jacobs 2 in 1'}}, {'_index': 'ES', '_source': {'item_name': 'Messmer Earl Gre'}}, {'_index': 'ES', '_source': {'item_name': 'BIO MILCH 1,5%'}}, {'_index': 'ES', '_source': {'item_name': 'Dr.Oetker Bistro'}}, {'_index': 'ES', '_source': {'item_name': 'Astra Dose'}}, {'_index': 'ES', '_source': {'item_name': 'HÄ-Chicken Wings'}}, {'_index': 'ES', '_source': {'item_name': 'Croiss. Kirsch'}}, {'_index': 'ES', '_source': {'item_name': 'PENNY Tilsiter'}}, {'_index': 'ES', '_source': {'item_name': 'MISCHSALAT'}}, {'_index': 'ES', '_source': {'item_name': 'EIER FH 10ER OKT'}}, {'_index': 'ES', '_source': {'item_name': 'PENNY Sandw. Eis'}}, {'_index': 'ES', '_source': {'item_name': 'CALCIUM BRT'}}, {'_index': 'ES', '_source': {'item_name': 'MAGNESIUM BRT'}}, {'_index': 'ES', '_source': {'item_name': 'MILKA ALPENMILCH'}}, {'_index': 'ES', '_source': {'item_name': 'W. MANDEL KOKO'}}, {'_index': 'ES', '_source': {'item_name': 'Milk Zartherb'}}, {'_index': 'ES', '_source': {'item_name': 'ZARTBITTER 85%'}}, {'_index': 'ES', '_source': {'item_name': 'Sprite'}}, {'_index': 'ES', '_source': {'item_name': 'JB RED STAG'}}, {'_index': 'ES', '_source': {'item_name': 'JIM BEAM WHISKEY'}}, {'_index': 'ES', '_source': {'item_name': 'VELTINS PILSENER'}}, {'_index': 'ES', '_source': {'item_name': 'MUENCHNER HELL'}}, {'_index': 'ES', '_source': {'item_name': 'BIO WAISWAFFEL'}}, {'_index': 'ES', '_source': {'item_name': 'REISW.M.SALZ'}}, {'_index': 'ES', '_source': {'item_name': 'LUXUS TOILET.PAP'}}, {'_index': 'ES', '_source': {'item_name': 'Muemmelmann J 35%'}}, {'_index': 'ES', '_source': {'item_name': 'Piz. Margherita'}}, {'_index': 'ES', '_source': {'item_name': 'Tomaten, geschaelt'}}, {'_index': 'ES', '_source': {'item_name': 'Tomaten, gehackt'}}, {'_index': 'ES', '_source': {'item_name': 'Mini-Pack Mais'}}, {'_index': 'ES', '_source': {'item_name': 'Mini-Pack Hülsenfr'}}, {'_index': 'ES', '_source': {'item_name': 'Mini-Pack Gemüse'}}, {'_index': 'ES', '_source': {'item_name': 'Müll. Zugband'}}, {'_index': 'ES', '_source': {'item_name': 'Mayonnaise'}}, {'_index': 'ES', '_source': {'item_name': 'Kart. Vwfk 2,5kg'}}, {'_index': 'ES', '_source': {'item_name': 'Weizen-Sandwich '}}, {'_index': 'ES', '_source': {'item_name': 'GL: Damenbinden Kö'}}, {'_index': 'ES', '_source': {'item_name': 'Backkäse 300g'}}, {'_index': 'ES', '_source': {'item_name': 'KNORR Aktiv/Spaghe'}}, {'_index': 'ES', '_source': {'item_name': 'Pasta-Gericht'}}, {'_index': 'ES', '_source': {'item_name': 'Geschenkpapier '}}, {'_index': 'ES', '_source': {'item_name': 'Franz. Schokobröt.'}}, {'_index': 'ES', '_source': {'item_name': 'Mini Schni./Cordon'}}, {'_index': 'ES', '_source': {'item_name': 'Loop/Cross Frites'}}, {'_index': 'ES', '_source': {'item_name': 'Pasta/Gnocchi'}}, {'_index': 'ES', '_source': {'item_name': 'Feinkostsuppe'}}, {'_index': 'ES', '_source': {'item_name': 'Gulaschsuppe'}}, {'_index': 'ES', '_source': {'item_name': 'Becks Pils 500ml'}}, {'_index': 'ES', '_source': {'item_name': 'Reeper B. Craft B.'}}, {'_index': 'ES', '_source': {'item_name': 'Bio. Tom., gehackt'}}, {'_index': 'ES', '_source': {'item_name': 'Brewd.Zwickel Hell'}}, {'_index': 'ES', '_source': {'item_name': 'TK-Cremissimo'}}, {'_index': 'ES', '_source': {'item_name': 'Bio-Gemüse-Sort.'}}, {'_index': 'ES', '_source': {'item_name': 'SCHOKO-KNUSPER-RIE'}}, {'_index': 'ES', '_source': {'item_name': 'POM-BAR 75g'}}, {'_index': 'ES', '_source': {'item_name': 'Pringles 200g'}}, {'_index': 'ES', '_source': {'item_name': 'The Wonder Chunks'}}, {'_index': 'ES', '_source': {'item_name': 'Serrano Schinken S'}}, {'_index': 'ES', '_source': {'item_name': 'C&W Dinkelbrötchen'}}, {'_index': 'ES', '_source': {'item_name': 'Hörnchen'}}, {'_index': 'ES', '_source': {'item_name': 'Tropi Frutti/Phant'}}, {'_index': 'ES', '_source': {'item_name': 'Bio-Pflücksal.125g'}}, {'_index': 'ES', '_source': {'item_name': 'Luc Auth R 20'}}, {'_index': 'ES', '_source': {'item_name': 'Funny Frisch Chips'}}, {'_index': 'ES', '_source': {'item_name': 'Goldbaeren 360g'}}, {'_index': 'ES', '_source': {'item_name': 'Mon Cheri 157g'}}, {'_index': 'ES', '_source': {'item_name': 'Kinder Country'}}, {'_index': 'ES', '_source': {'item_name': 'Muffins'}}, {'_index': 'ES', '_source': {'item_name': 'Früchte Cups_DE_As'}}, {'_index': 'ES', '_source': {'item_name': 'Riesling feinherb'}}, {'_index': 'ES', '_source': {'item_name': 'Weinsauerkr., 500g'}}, {'_index': 'ES', '_source': {'item_name': 'Bio-Brote'}}, {'_index': 'ES', '_source': {'item_name': 'Bio-Bananen'}}, {'_index': 'ES', '_source': {'item_name': 'Bio-Käsegenuss'}}, {'_index': 'ES', '_source': {'item_name': 'Gurke Stück'}}, {'_index': 'ES', '_source': {'item_name': 'Bio Oliven'}}, {'_index': 'ES', '_source': {'item_name': 'Antipasti'}}, {'_index': 'ES', '_source': {'item_name': 'Bio-Kaiserbrötchen'}}, {'_index': 'ES', '_source': {'item_name': 'Bio-Milch 3,8% 1L'}}, {'_index': 'ES', '_source': {'item_name': 'Pampers Wind/Pant'}}, {'_index': 'ES', '_source': {'item_name': 'Frischkaese Natur'}}, {'_index': 'ES', '_source': {'item_name': 'Haferfl.kernig'}}, {'_index': 'ES', '_source': {'item_name': 'Fraicho'}}, {'_index': 'ES', '_source': {'item_name': 'Bio-Eier OKT'}}, {'_index': 'ES', '_source': {'item_name': 'Express-Reis, pur'}}, {'_index': 'ES', '_source': {'item_name': 'Bio-Haferflocken'}}, {'_index': 'ES', '_source': {'item_name': 'Hähnchen Geschnetz'}}, {'_index': 'ES', '_source': {'item_name': 'Wachs-Brechbohn.'}}, {'_index': 'ES', '_source': {'item_name': 'Pflanzenoel 1L'}}, {'_index': 'ES', '_source': {'item_name': 'griech. Jogh. 1kg'}}, {'_index': 'ES', '_source': {'item_name': 'Apfel rot 1kg'}}, {'_index': 'ES', '_source': {'item_name': 'GL:LO: Lose Banane'}}, {'_index': 'ES', '_source': {'item_name': 'Kiwi grün Stück'}}, {'_index': 'ES', '_source': {'item_name': 'Batterien Activ En'}}, {'_index': 'ES', '_source': {'item_name': 'Grieß-Pudding'}}, {'_index': 'ES', '_source': {'item_name': 'Alpighurt'}}, {'_index': 'ES', '_source': {'item_name': 'Küchenrollen, 31g.'}}, {'_index': 'ES', '_source': {'item_name': 'Orange 2kg'}}, {'_index': 'ES', '_source': {'item_name': 'Grapefruit stück'}}, {'_index': 'ES', '_source': {'item_name': 'Bruzzlkracher'}}, {'_index': 'ES', '_source': {'item_name': 'Raclette Kaese'}}, {'_index': 'ES', '_source': {'item_name': 'Speisequark 20%'}}, {'_index': 'ES', '_source': {'item_name': 'Bio-Zwiebeln 500g'}}, {'_index': 'ES', '_source': {'item_name': 'Walnussbrötchen'}}, {'_index': 'ES', '_source': {'item_name': 'Trauben dunkel'}}, {'_index': 'ES', '_source': {'item_name': 'Miwa still 6x 1,5l'}}, {'_index': 'ES', '_source': {'item_name': 'Nektar 1,5 l'}}, {'_index': 'ES', '_source': {'item_name': 'Rote Nektare'}}, {'_index': 'ES', '_source': {'item_name': 'Fanta ohne Zucker'}}, {'_index': 'ES', '_source': {'item_name': 'CC Light/Zero'}}, {'_index': 'ES', '_source': {'item_name': 'Apfel Schorle'}}, {'_index': 'ES', '_source': {'item_name': 'Fanta/Sprite/MM'}}, {'_index': 'ES', '_source': {'item_name': 'Galiamelone'}}, {'_index': 'ES', '_source': {'item_name': 'Wassermelonge kern'}}, {'_index': 'ES', '_source': {'item_name': 'Kaki stück'}}, {'_index': 'ES', '_source': {'item_name': 'Kinderpuzzle'}}, {'_index': 'ES', '_source': {'item_name': 'Corny Müsli-Riegel'}}]\n"
     ]
    }
   ],
   "source": [
    "index_name = 'ES' \n",
    "df_dicts=df_datasets.to_dict(orient='records')\n",
    "bulk_data = []\n",
    "for doc in df_dicts:\n",
    "    action = {\"_index\": index_name, \"_source\": doc}\n",
    "    bulk_data.append(action)\n",
    "print(bulk_data)"
   ]
  },
  {
   "cell_type": "code",
   "execution_count": 32,
   "metadata": {},
   "outputs": [
    {
     "data": {
      "text/html": [
       "<div>\n",
       "<style scoped>\n",
       "    .dataframe tbody tr th:only-of-type {\n",
       "        vertical-align: middle;\n",
       "    }\n",
       "\n",
       "    .dataframe tbody tr th {\n",
       "        vertical-align: top;\n",
       "    }\n",
       "\n",
       "    .dataframe thead th {\n",
       "        text-align: right;\n",
       "    }\n",
       "</style>\n",
       "<table border=\"1\" class=\"dataframe\">\n",
       "  <thead>\n",
       "    <tr style=\"text-align: right;\">\n",
       "      <th></th>\n",
       "      <th>item_name</th>\n",
       "    </tr>\n",
       "  </thead>\n",
       "  <tbody>\n",
       "    <tr>\n",
       "      <th>0</th>\n",
       "      <td>Hörnchen Milchcrem</td>\n",
       "    </tr>\n",
       "    <tr>\n",
       "      <th>1</th>\n",
       "      <td>Blätterteiggebäck</td>\n",
       "    </tr>\n",
       "    <tr>\n",
       "      <th>2</th>\n",
       "      <td>Fairtrade tookies</td>\n",
       "    </tr>\n",
       "    <tr>\n",
       "      <th>3</th>\n",
       "      <td>Cashewkerne</td>\n",
       "    </tr>\n",
       "    <tr>\n",
       "      <th>4</th>\n",
       "      <td>MILSANI H-MILCH 1,5%</td>\n",
       "    </tr>\n",
       "    <tr>\n",
       "      <th>...</th>\n",
       "      <td>...</td>\n",
       "    </tr>\n",
       "    <tr>\n",
       "      <th>999</th>\n",
       "      <td>Galiamelone</td>\n",
       "    </tr>\n",
       "    <tr>\n",
       "      <th>1000</th>\n",
       "      <td>Wassermelonge kern</td>\n",
       "    </tr>\n",
       "    <tr>\n",
       "      <th>1001</th>\n",
       "      <td>Kaki stück</td>\n",
       "    </tr>\n",
       "    <tr>\n",
       "      <th>1002</th>\n",
       "      <td>Kinderpuzzle</td>\n",
       "    </tr>\n",
       "    <tr>\n",
       "      <th>1003</th>\n",
       "      <td>Corny Müsli-Riegel</td>\n",
       "    </tr>\n",
       "  </tbody>\n",
       "</table>\n",
       "<p>1001 rows × 1 columns</p>\n",
       "</div>"
      ],
      "text/plain": [
       "                 item_name\n",
       "0       Hörnchen Milchcrem\n",
       "1        Blätterteiggebäck\n",
       "2        Fairtrade tookies\n",
       "3              Cashewkerne\n",
       "4     MILSANI H-MILCH 1,5%\n",
       "...                    ...\n",
       "999            Galiamelone\n",
       "1000    Wassermelonge kern\n",
       "1001            Kaki stück\n",
       "1002          Kinderpuzzle\n",
       "1003    Corny Müsli-Riegel\n",
       "\n",
       "[1001 rows x 1 columns]"
      ]
     },
     "execution_count": 32,
     "metadata": {},
     "output_type": "execute_result"
    }
   ],
   "source": [
    "import os\n",
    "import pandas as pd\n",
    "\n",
    "df_dataset = pd.read_csv('../数据集/receipts3.csv',sep=';')\n",
    "df_dataset.drop_duplicates(keep='first', inplace=True)\n",
    "df_datasets=df_dataset.drop(columns=['Unnamed: 0'])\n",
    "df_datasets"
   ]
  },
  {
   "cell_type": "code",
   "execution_count": 33,
   "metadata": {},
   "outputs": [],
   "source": [
    "def create_grams(text,n):\n",
    "    list=[]\n",
    "    gram=n\n",
    "    string_grams = \"\"\n",
    "    for i in range(0, len(text)-gram+1):\n",
    "        x=text[i:i+gram]\n",
    "        list.append(x)\n",
    "        string_grams = ' '.join(list)\n",
    "    return string_grams"
   ]
  },
  {
   "cell_type": "code",
   "execution_count": 34,
   "metadata": {},
   "outputs": [],
   "source": [
    "def creat_bigrams(text):\n",
    "    return create_grams(text,2)"
   ]
  },
  {
   "cell_type": "code",
   "execution_count": 35,
   "metadata": {},
   "outputs": [],
   "source": [
    "def creat_trigrams(text):\n",
    "    return create_grams(text,3)"
   ]
  },
  {
   "cell_type": "code",
   "execution_count": 36,
   "metadata": {},
   "outputs": [
    {
     "name": "stdout",
     "output_type": "stream",
     "text": [
      "kas ask skh\n"
     ]
    }
   ],
   "source": [
    "print(creat_trigrams('kaskh'))"
   ]
  },
  {
   "cell_type": "code",
   "execution_count": 37,
   "metadata": {},
   "outputs": [
    {
     "data": {
      "text/html": [
       "<div>\n",
       "<style scoped>\n",
       "    .dataframe tbody tr th:only-of-type {\n",
       "        vertical-align: middle;\n",
       "    }\n",
       "\n",
       "    .dataframe tbody tr th {\n",
       "        vertical-align: top;\n",
       "    }\n",
       "\n",
       "    .dataframe thead th {\n",
       "        text-align: right;\n",
       "    }\n",
       "</style>\n",
       "<table border=\"1\" class=\"dataframe\">\n",
       "  <thead>\n",
       "    <tr style=\"text-align: right;\">\n",
       "      <th></th>\n",
       "      <th>label</th>\n",
       "      <th>item_name</th>\n",
       "      <th>shop</th>\n",
       "      <th>nutrition</th>\n",
       "      <th>L3</th>\n",
       "      <th>L1</th>\n",
       "      <th>L2</th>\n",
       "      <th>name_lower</th>\n",
       "      <th>bigram</th>\n",
       "      <th>trigram</th>\n",
       "    </tr>\n",
       "  </thead>\n",
       "  <tbody>\n",
       "    <tr>\n",
       "      <th>0</th>\n",
       "      <td>Backzutaten</td>\n",
       "      <td>Chocolate Muffins</td>\n",
       "      <td>Albona</td>\n",
       "      <td>1Packung (350,0 g),Brennwert: 1.309 kcal ,Fett...</td>\n",
       "      <td>Backzutaten</td>\n",
       "      <td>Lebensmittel</td>\n",
       "      <td>Backwaren &amp; Backzutaten</td>\n",
       "      <td>chocolate muffins</td>\n",
       "      <td>Ch ho oc co ol la at te e   M Mu uf ff fi in ns</td>\n",
       "      <td>Cho hoc oco col ola lat ate te  e M  Mu Muf uf...</td>\n",
       "    </tr>\n",
       "    <tr>\n",
       "      <th>1</th>\n",
       "      <td>Backzutaten</td>\n",
       "      <td>Vanillezucker</td>\n",
       "      <td>Albona</td>\n",
       "      <td>1Tüte (8,0 g),Brennwert: 32 kcal ,Fett: 134 kJ...</td>\n",
       "      <td>Backzutaten</td>\n",
       "      <td>Lebensmittel</td>\n",
       "      <td>Backwaren &amp; Backzutaten</td>\n",
       "      <td>vanillezucker</td>\n",
       "      <td>Va an ni il ll le ez zu uc ck ke er</td>\n",
       "      <td>Van ani nil ill lle lez ezu zuc uck cke ker</td>\n",
       "    </tr>\n",
       "    <tr>\n",
       "      <th>2</th>\n",
       "      <td>Desserts</td>\n",
       "      <td>Grießbrei</td>\n",
       "      <td>Albona</td>\n",
       "      <td>100Gramm,Brennwert: 92 kcal ,Fett: 385 kJ ,Koh...</td>\n",
       "      <td>Desserts</td>\n",
       "      <td>Lebensmittel</td>\n",
       "      <td>Gerichte &amp; Speisen</td>\n",
       "      <td>grießbrei</td>\n",
       "      <td>Gr ri ie eß ßb br re ei</td>\n",
       "      <td>Gri rie ieß eßb ßbr bre rei</td>\n",
       "    </tr>\n",
       "    <tr>\n",
       "      <th>3</th>\n",
       "      <td>Kuchen &amp; Torten</td>\n",
       "      <td>Eierschecke</td>\n",
       "      <td>Albona</td>\n",
       "      <td>1Packung (462,0 g),Brennwert: 1.665 kcal ,Fett...</td>\n",
       "      <td>Kuchen &amp; Torten</td>\n",
       "      <td>Lebensmittel</td>\n",
       "      <td>Sü√üwaren &amp; Knabbereien</td>\n",
       "      <td>eierschecke</td>\n",
       "      <td>Ei ie er rs sc ch he ec ck ke</td>\n",
       "      <td>Eie ier ers rsc sch che hec eck cke</td>\n",
       "    </tr>\n",
       "    <tr>\n",
       "      <th>4</th>\n",
       "      <td>Pudding</td>\n",
       "      <td>Pudding Vanille-Geschmack</td>\n",
       "      <td>Albona</td>\n",
       "      <td>1Packung (190,0 g),Brennwert: 153 kcal ,Fett: ...</td>\n",
       "      <td>Pudding</td>\n",
       "      <td>Lebensmittel</td>\n",
       "      <td>Milch &amp; Milcherzeugnisse</td>\n",
       "      <td>pudding vanille-geschmack</td>\n",
       "      <td>Pu ud dd di in ng g   V Va an ni il ll le e- -...</td>\n",
       "      <td>Pud udd ddi din ing ng  g V  Va Van ani nil il...</td>\n",
       "    </tr>\n",
       "  </tbody>\n",
       "</table>\n",
       "</div>"
      ],
      "text/plain": [
       "              label                  item_name      shop  \\\n",
       "0      Backzutaten           Chocolate Muffins   Albona    \n",
       "1      Backzutaten               Vanillezucker   Albona    \n",
       "2         Desserts                   Grießbrei   Albona    \n",
       "3  Kuchen & Torten                 Eierschecke   Albona    \n",
       "4          Pudding   Pudding Vanille-Geschmack   Albona    \n",
       "\n",
       "                                           nutrition               L3  \\\n",
       "0  1Packung (350,0 g),Brennwert: 1.309 kcal ,Fett...      Backzutaten   \n",
       "1  1Tüte (8,0 g),Brennwert: 32 kcal ,Fett: 134 kJ...      Backzutaten   \n",
       "2  100Gramm,Brennwert: 92 kcal ,Fett: 385 kJ ,Koh...         Desserts   \n",
       "3  1Packung (462,0 g),Brennwert: 1.665 kcal ,Fett...  Kuchen & Torten   \n",
       "4  1Packung (190,0 g),Brennwert: 153 kcal ,Fett: ...          Pudding   \n",
       "\n",
       "             L1                        L2                 name_lower  \\\n",
       "0  Lebensmittel   Backwaren & Backzutaten          chocolate muffins   \n",
       "1  Lebensmittel   Backwaren & Backzutaten              vanillezucker   \n",
       "2  Lebensmittel        Gerichte & Speisen                  grießbrei   \n",
       "3  Lebensmittel   Sü√üwaren & Knabbereien                eierschecke   \n",
       "4  Lebensmittel  Milch & Milcherzeugnisse  pudding vanille-geschmack   \n",
       "\n",
       "                                              bigram  \\\n",
       "0    Ch ho oc co ol la at te e   M Mu uf ff fi in ns   \n",
       "1                Va an ni il ll le ez zu uc ck ke er   \n",
       "2                            Gr ri ie eß ßb br re ei   \n",
       "3                      Ei ie er rs sc ch he ec ck ke   \n",
       "4  Pu ud dd di in ng g   V Va an ni il ll le e- -...   \n",
       "\n",
       "                                             trigram  \n",
       "0  Cho hoc oco col ola lat ate te  e M  Mu Muf uf...  \n",
       "1        Van ani nil ill lle lez ezu zuc uck cke ker  \n",
       "2                        Gri rie ieß eßb ßbr bre rei  \n",
       "3                Eie ier ers rsc sch che hec eck cke  \n",
       "4  Pud udd ddi din ing ng  g V  Va Van ani nil il...  "
      ]
     },
     "execution_count": 37,
     "metadata": {},
     "output_type": "execute_result"
    }
   ],
   "source": [
    "import os\n",
    "import pandas as pd\n",
    "df_database = pd.read_csv('../all_all.csv')\n",
    "df_database['name_lower']=df_database['item_name'].apply(lambda x:x.lower())\n",
    "df_database=df_database.drop(columns=['Unnamed: 0'])\n",
    "df_database=df_database.where(df_database.notnull(),None)\n",
    "df_database['bigram']=df_database['item_name'].apply(creat_bigrams)\n",
    "df_database['trigram']=df_database['item_name'].apply(creat_trigrams)\n",
    "df_database.head()"
   ]
  },
  {
   "cell_type": "code",
   "execution_count": 38,
   "metadata": {},
   "outputs": [],
   "source": [
    "from elasticsearch import Elasticsearch\n",
    "es = Elasticsearch(['http://localhost:9200'],http_auth=['elastic', 'piPh2iel5aat'])"
   ]
  },
  {
   "cell_type": "code",
   "execution_count": 39,
   "metadata": {},
   "outputs": [],
   "source": [
    "def delete_index() -> bool:\n",
    "        \"\"\"\n",
    "        remove index\n",
    "        :return: bool\n",
    "        \"\"\"\n",
    "        try:\n",
    "            es.indices.delete(index='es1', ignore=[400, 404])\n",
    "            print(f\"[INFO] Index 'es1' deleted successfully\")\n",
    "            return True\n",
    "        except Exception as ex:\n",
    "            print(\"[WARNING] some exception has occurred!\")\n",
    "            return False"
   ]
  },
  {
   "cell_type": "code",
   "execution_count": 40,
   "metadata": {},
   "outputs": [],
   "source": [
    "from elasticsearch import helpers\n",
    "def index_dataframe(index_name,df):\n",
    "    delete_index()\n",
    "    bulk_data = []\n",
    "    df_dicts = df.to_dict(orient='records')\n",
    "    for doc in df_dicts:\n",
    "        action = {\"_index\": index_name, \"_source\": doc}\n",
    "        bulk_data.append(action)\n",
    "    try:\n",
    "        helpers.bulk(es, bulk_data, stats_only=False)\n",
    "        print(\"dataframe indexed!\")\n",
    "    except Exception as e:\n",
    "        print(str(e))"
   ]
  },
  {
   "cell_type": "code",
   "execution_count": 41,
   "metadata": {},
   "outputs": [
    {
     "name": "stdout",
     "output_type": "stream",
     "text": [
      "[INFO] Index 'es1' deleted successfully\n",
      "dataframe indexed!\n"
     ]
    }
   ],
   "source": [
    "index_dataframe('es1',df_database)"
   ]
  },
  {
   "cell_type": "code",
   "execution_count": 73,
   "metadata": {},
   "outputs": [],
   "source": [
    "import json\n",
    "def search(item, search_status):\n",
    "\tsearch = json.dumps({})\n",
    "\tif search_status == \"bigrams\":\n",
    "\t\tsearch = json.dumps({\n",
    "\t\t\t'query': {\n",
    "\t\t\t\t\t'bool': {\n",
    "\t\t\t\t\t\t'should': [\n",
    "\t\t\t\t\t\t\t{\n",
    "\t\t\t\t\t\t\t\t'match': {\n",
    "\t\t\t\t\t\t\t\t\t'bigram': creat_bigrams(item),\n",
    "\t\t\t\t\t\t\t\t}\n",
    "\t\t\t\t\t\t\t},\n",
    "\t\t\t\t\t\t]\n",
    "\t\t\t\t\t}\n",
    "\t\t\t\t}\n",
    "\t\t})\n",
    "\telif search_status == \"trigrams\":\n",
    "\t\tsearch = json.dumps({\n",
    "\t\t\t\t\t'query': {\n",
    "\t\t\t\t\t\t'bool': {\n",
    "\t\t\t\t\t\t\t'should': [\n",
    "\t\t\t\t\t\t\t\t{\n",
    "\t\t\t\t\t\t\t\t\t'match': {\n",
    "\t\t\t\t\t\t\t\t\t\t'trigram': creat_trigrams(item),\n",
    "\t\t\t\t\t\t\t\t\t}\n",
    "\t\t\t\t\t\t\t\t},\n",
    "\t\t\t\t\t\t\t]\n",
    "\t\t\t\t\t\t}\n",
    "\t\t\t\t\t}\n",
    "\t\t\t\t})\n",
    "\telse: \n",
    "\t\tsearch = json.dumps({'query': {'bool': {'should': [{'match': {\n",
    "\t\t\t\t\t\t\t\t\t\t'item_name': item\n",
    "\t\t\t\t\t\t\t\t\t}}]}}})\n",
    "\t# to the job.\n",
    "\tresult = es.search(index='es1', body=search, size=5)\n",
    "\tif not result['timed_out']:\n",
    "\t\tdata = result['hits']['hits']\n",
    "\t\tif len(data) > 0:\n",
    "\t\t\tdigital_items = []\n",
    "\t\t\tfor item in data:\n",
    "\t\t\t\tdigital_items.append(item['_source'])\n",
    "\t\t\treturn digital_items\n",
    "\treturn []"
   ]
  },
  {
   "cell_type": "code",
   "execution_count": 75,
   "metadata": {},
   "outputs": [
    {
     "data": {
      "text/plain": [
       "[{'label': 'Backzutaten ',\n",
       "  'item_name': 'Chocolate Muffins',\n",
       "  'shop': ' Albona ',\n",
       "  'nutrition': '1Packung (350,0 g),Brennwert: 1.309 kcal ,Fett: 5.481 kJ ,gesättigte Fettsäuren: 17,9 g ,Kohlenhydrate: 9,8 g ,Zucker: 257,3 g ,Eiweiß: 134,8 g ,Salz: 21,0 g ,Ballaststoffe: 2,0 g ',\n",
       "  'L3': 'Backzutaten',\n",
       "  'L1': 'Lebensmittel',\n",
       "  'L2': 'Backwaren & Backzutaten',\n",
       "  'name_lower': 'chocolate muffins',\n",
       "  'bigram': 'Ch ho oc co ol la at te e   M Mu uf ff fi in ns',\n",
       "  'trigram': 'Cho hoc oco col ola lat ate te  e M  Mu Muf uff ffi fin ins'},\n",
       " {'label': 'Verschiedenes ',\n",
       "  'item_name': 'Bio Dark Chocolate Muffins',\n",
       "  'shop': ' Schnitzer ',\n",
       "  'nutrition': '1Packung (140,0 g),Brennwert: 608 kcal ,Fett: 2.544 kJ ,gesättigte Fettsäuren: 34,4 g ,Kohlenhydrate: 18,5 g ,Zucker: 62,3 g ,Eiweiß: 44,8 g ,Salz: 8,8 g ,Ballaststoffe: 0,3 g ',\n",
       "  'L3': None,\n",
       "  'L1': 'Lebensmittel',\n",
       "  'L2': 'Verschiedenes',\n",
       "  'name_lower': 'bio dark chocolate muffins',\n",
       "  'bigram': 'Bi io o   D Da ar rk k   C Ch ho oc co ol la at te e   M Mu uf ff fi in ns',\n",
       "  'trigram': 'Bio io  o D  Da Dar ark rk  k C  Ch Cho hoc oco col ola lat ate te  e M  Mu Muf uff ffi fin ins'},\n",
       " {'label': 'Kuchen & Torten ',\n",
       "  'item_name': 'Double Chocolate Muffin',\n",
       "  'shop': ' Starbucks ',\n",
       "  'nutrition': '1Stück (110,0 g),Brennwert: 446 kcal ,Fett: 1.865 kJ ,Kohlenhydrate: 25,3 g ,Eiweiß: 45,1 g ,Ballaststoffe: 5,5 g ,Natrium: 0,0 g ',\n",
       "  'L3': 'Kuchen & Torten',\n",
       "  'L1': 'Lebensmittel',\n",
       "  'L2': 'Sü√üwaren & Knabbereien',\n",
       "  'name_lower': 'double chocolate muffin',\n",
       "  'bigram': 'Do ou ub bl le e   C Ch ho oc co ol la at te e   M Mu uf ff fi in',\n",
       "  'trigram': 'Dou oub ubl ble le  e C  Ch Cho hoc oco col ola lat ate te  e M  Mu Muf uff ffi fin'},\n",
       " {'label': 'Kuchen & Torten ',\n",
       "  'item_name': 'Double Choc-Muffins',\n",
       "  'shop': ' Confiserie Firenze ',\n",
       "  'nutrition': '1Stück (75,0 g),Brennwert: 323 kcal ,Fett: 1.352 kJ ,Kohlenhydrate: 17,0 g ,Eiweiß: 36,7 g ,Salz: 3,8 g ,Ballaststoffe: 0,7 g ',\n",
       "  'L3': 'Kuchen & Torten',\n",
       "  'L1': 'Lebensmittel',\n",
       "  'L2': 'Sü√üwaren & Knabbereien',\n",
       "  'name_lower': 'double choc-muffins',\n",
       "  'bigram': 'Do ou ub bl le e   C Ch ho oc c- -M Mu uf ff fi in ns',\n",
       "  'trigram': 'Dou oub ubl ble le  e C  Ch Cho hoc oc- c-M -Mu Muf uff ffi fin ins'},\n",
       " {'label': 'Backzutaten ',\n",
       "  'item_name': 'Schoko Muffins',\n",
       "  'shop': ' Dr. Oetker ',\n",
       "  'nutrition': '1Packung (335,0 g),Brennwert: 1.548 kcal ,Fett: 6.480 kJ ,gesättigte Fettsäuren: 97,2 g ,Kohlenhydrate: 22,1 g ,Zucker: 150,8 g ,Eiweiß: 97,2 g ,Salz: 17,8 g ,Ballaststoffe: 1,1 g ',\n",
       "  'L3': 'Backzutaten',\n",
       "  'L1': 'Lebensmittel',\n",
       "  'L2': 'Backwaren & Backzutaten',\n",
       "  'name_lower': 'schoko muffins',\n",
       "  'bigram': 'Sc ch ho ok ko o   M Mu uf ff fi in ns',\n",
       "  'trigram': 'Sch cho hok oko ko  o M  Mu Muf uff ffi fin ins'}]"
      ]
     },
     "execution_count": 75,
     "metadata": {},
     "output_type": "execute_result"
    }
   ],
   "source": [
    "search('Chocolate Muffins',\"bigrams\")"
   ]
  },
  {
   "cell_type": "code",
   "execution_count": null,
   "metadata": {},
   "outputs": [],
   "source": [
    "\n",
    "\n"
   ]
  }
 ],
 "metadata": {
  "kernelspec": {
   "display_name": "Python 3",
   "language": "python",
   "name": "python3"
  },
  "language_info": {
   "codemirror_mode": {
    "name": "ipython",
    "version": 3
   },
   "file_extension": ".py",
   "mimetype": "text/x-python",
   "name": "python",
   "nbconvert_exporter": "python",
   "pygments_lexer": "ipython3",
   "version": "3.7.7"
  }
 },
 "nbformat": 4,
 "nbformat_minor": 4
}
